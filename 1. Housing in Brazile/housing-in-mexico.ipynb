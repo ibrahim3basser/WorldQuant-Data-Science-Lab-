{
 "cells": [
  {
   "cell_type": "markdown",
   "source": [
    "This notebook will be for the initial walk through and exploration of the data."
   ],
   "metadata": {
    "collapsed": false,
    "pycharm": {
     "name": "#%% md\n"
    }
   }
  },
  {
   "cell_type": "code",
   "execution_count": 54,
   "metadata": {
    "collapsed": true,
    "pycharm": {
     "name": "#%%\n"
    }
   },
   "outputs": [],
   "source": [
    "import warnings\n",
    "from glob import glob\n",
    "\n",
    "import pandas as pd\n",
    "import seaborn as sns\n",
    "import matplotlib.pyplot as plt\n",
    "import plotly.express as px\n",
    "from category_encoders import OneHotEncoder\n",
    "from IPython.display import VimeoVideo\n",
    "from ipywidgets import Dropdown, FloatSlider, IntSlider, interact\n",
    "from sklearn.impute import SimpleImputer\n",
    "from sklearn.linear_model import LinearRegression, Ridge  # noqa F401\n",
    "from sklearn.metrics import mean_absolute_error\n",
    "from sklearn.pipeline import make_pipeline\n",
    "from sklearn.utils.validation import check_is_fitted\n",
    "\n",
    "warnings.simplefilter(action=\"ignore\", category=FutureWarning)\n"
   ]
  },
  {
   "cell_type": "markdown",
   "source": [],
   "metadata": {
    "collapsed": false,
    "pycharm": {
     "name": "#%% md\n"
    }
   }
  },
  {
   "cell_type": "markdown",
   "source": [
    "In this project, you’re working for a client who wants to create a model that can predict the price of apartments in the city of Mexico (Distrito federal) — with a focus on apartments that cost less than $100,000 USD"
   ],
   "metadata": {
    "collapsed": false,
    "pycharm": {
     "name": "#%% md\n"
    }
   }
  },
  {
   "cell_type": "markdown",
   "source": [
    "# Prepare Data"
   ],
   "metadata": {
    "collapsed": false,
    "pycharm": {
     "name": "#%% md\n"
    }
   }
  },
  {
   "cell_type": "markdown",
   "source": [
    "## Import"
   ],
   "metadata": {
    "collapsed": false,
    "pycharm": {
     "name": "#%% md\n"
    }
   }
  },
  {
   "cell_type": "markdown",
   "source": [
    "There are over 5 datasets in total for this project, so instead of cleaning each of them individually, I will use a function that will automate the data importing and cleaning process."
   ],
   "metadata": {
    "collapsed": false,
    "pycharm": {
     "name": "#%% md\n"
    }
   }
  },
  {
   "cell_type": "code",
   "execution_count": 52,
   "outputs": [],
   "source": [
    "def wrangle(filepath):\n",
    "    # Read csv file into DataFrame\n",
    "    df = pd.read_csv(filepath)\n",
    "    # Subset data: Apartments in \"Distrito Federal\", less than 100,000\n",
    "    mask_ba = df[\"place_with_parent_names\"].str.contains(\"Distrito Federal\")\n",
    "    mask_apt = df[\"property_type\"] == \"apartment\"\n",
    "    mask_price = df[\"price_aprox_usd\"] < 100_000\n",
    "    df = df[mask_ba & mask_apt & mask_price]\n",
    "    # Subset data: Remove outliers for \"surface_covered_in_m2\"\n",
    "    low, high = df[\"surface_covered_in_m2\"].quantile([0.1, 0.9])\n",
    "    mask_area = df[\"surface_covered_in_m2\"].between(low, high)\n",
    "    df = df[mask_area]\n",
    "    # Split \"lat-lon\" column\n",
    "    df[[\"lat\", \"lon\"]] = df[\"lat-lon\"].str.split(\",\", expand=True).astype(float)\n",
    "    df.drop(columns=\"lat-lon\", inplace=True)\n",
    "    # Create a borough column and drop the place_with_parent_names column\n",
    "    df[\"borough\"] = df[\"place_with_parent_names\"].str.split(\"|\", expand=True)[1]\n",
    "    df.drop(columns=\"place_with_parent_names\", inplace=True)\n",
    "    # Drop columns with over 50% null values\n",
    "    df.drop(columns=[\"floor\" ,\"expenses\"], inplace=True)\n",
    "    # Drop low and high cardinality categorical variables\n",
    "    df.drop(columns=[\"operation\", \"property_type\", \"currency\", \"properati_url\"], inplace=True)\n",
    "    # Drop Leaky Columns\n",
    "    df.drop(columns=[\"price\", \"price_aprox_local_currency\",\"price_usd_per_m2\", \"price_per_m2\"], inplace=True)\n",
    "    # Drop columns with multicolinearity\n",
    "    df.drop(columns=[\"surface_total_in_m2\", \"rooms\"], inplace=True)\n",
    "\n",
    "    return df"
   ],
   "metadata": {
    "collapsed": false,
    "pycharm": {
     "name": "#%%\n"
    }
   }
  },
  {
   "cell_type": "code",
   "execution_count": 53,
   "outputs": [
    {
     "name": "stdout",
     "output_type": "stream",
     "text": [
      "df shape: (1101, 5)\n"
     ]
    },
    {
     "data": {
      "text/plain": "    price_aprox_usd  surface_covered_in_m2        lat         lon  \\\n11         94022.66                   57.0  23.634501 -102.552788   \n20         70880.12                   56.0  19.402413  -99.095391   \n21         68228.99                   80.0  19.357820  -99.149406   \n22         24235.78                   60.0  19.504985  -99.208557   \n26         94140.20                   50.0  19.354219  -99.126244   \n\n          borough  \n11  Benito Juárez  \n20      Iztacalco  \n21  Benito Juárez  \n22   Azcapotzalco  \n26       Coyoacán  ",
      "text/html": "<div>\n<style scoped>\n    .dataframe tbody tr th:only-of-type {\n        vertical-align: middle;\n    }\n\n    .dataframe tbody tr th {\n        vertical-align: top;\n    }\n\n    .dataframe thead th {\n        text-align: right;\n    }\n</style>\n<table border=\"1\" class=\"dataframe\">\n  <thead>\n    <tr style=\"text-align: right;\">\n      <th></th>\n      <th>price_aprox_usd</th>\n      <th>surface_covered_in_m2</th>\n      <th>lat</th>\n      <th>lon</th>\n      <th>borough</th>\n    </tr>\n  </thead>\n  <tbody>\n    <tr>\n      <th>11</th>\n      <td>94022.66</td>\n      <td>57.0</td>\n      <td>23.634501</td>\n      <td>-102.552788</td>\n      <td>Benito Juárez</td>\n    </tr>\n    <tr>\n      <th>20</th>\n      <td>70880.12</td>\n      <td>56.0</td>\n      <td>19.402413</td>\n      <td>-99.095391</td>\n      <td>Iztacalco</td>\n    </tr>\n    <tr>\n      <th>21</th>\n      <td>68228.99</td>\n      <td>80.0</td>\n      <td>19.357820</td>\n      <td>-99.149406</td>\n      <td>Benito Juárez</td>\n    </tr>\n    <tr>\n      <th>22</th>\n      <td>24235.78</td>\n      <td>60.0</td>\n      <td>19.504985</td>\n      <td>-99.208557</td>\n      <td>Azcapotzalco</td>\n    </tr>\n    <tr>\n      <th>26</th>\n      <td>94140.20</td>\n      <td>50.0</td>\n      <td>19.354219</td>\n      <td>-99.126244</td>\n      <td>Coyoacán</td>\n    </tr>\n  </tbody>\n</table>\n</div>"
     },
     "execution_count": 53,
     "metadata": {},
     "output_type": "execute_result"
    }
   ],
   "source": [
    "df = wrangle(\"mexico-city-real-estate-1.csv\")\n",
    "print(\"df shape:\", df.shape)\n",
    "df.head()"
   ],
   "metadata": {
    "collapsed": false,
    "pycharm": {
     "name": "#%%\n"
    }
   }
  },
  {
   "cell_type": "markdown",
   "source": [
    "For this project, I want to build a model for apartments in Mexico City  (`\" Distrito Federal\"`) that cost less than \\$100,000. Looking at the first five rows of our DataFrame, I can already see that there properties that fall outside those parameters. So the first cleaning task is to remove those observations from the dataset. Since i'll be using a function to import and clean our data, i'll need to make changes there."
   ],
   "metadata": {
    "collapsed": false,
    "pycharm": {
     "name": "#%% md\n"
    }
   }
  },
  {
   "cell_type": "code",
   "execution_count": 7,
   "outputs": [],
   "source": [
    "# Subset data: Apartments in \"Distrito Federal\", less than 100,000\n",
    "mask_ba = df[\"place_with_parent_names\"].str.contains(\"Distrito Federal\")\n",
    "mask_apt = df[\"property_type\"] == \"apartment\"\n",
    "mask_price = df[\"price_aprox_usd\"] < 100_000\n",
    "df = df[mask_ba & mask_apt & mask_price]\n"
   ],
   "metadata": {
    "collapsed": false,
    "pycharm": {
     "name": "#%%\n"
    }
   }
  },
  {
   "cell_type": "code",
   "execution_count": 8,
   "outputs": [
    {
     "data": {
      "text/plain": "   operation property_type                  place_with_parent_names  \\\n2       sell     apartment        |Tlalpan|Distrito Federal|México|   \n11      sell     apartment  |Benito Juárez|Distrito Federal|México|   \n14      sell     apartment  |Benito Juárez|Distrito Federal|México|   \n20      sell     apartment      |Iztacalco|Distrito Federal|México|   \n21      sell     apartment  |Benito Juárez|Distrito Federal|México|   \n\n                   lat-lon      price currency  price_aprox_local_currency  \\\n2     19.279771,-99.234597   926667.0      MXN                   918284.00   \n11   23.634501,-102.552788  1784569.0      MXN                  1768425.20   \n14     19.36269,-99.150565  1260000.0      MXN                  1248601.52   \n20  19.4024128,-99.0953907  1345000.0      MXN                  1333148.73   \n21     19.35782,-99.149406  1295000.0      MXN                  1283284.95   \n\n    price_aprox_usd  surface_total_in_m2  surface_covered_in_m2  \\\n2          48822.82                  NaN                  100.0   \n11         94022.66                  NaN                   57.0   \n14         66384.96                  NaN                  103.0   \n20         70880.12                 56.0                   56.0   \n21         68228.99                  NaN                   80.0   \n\n    price_usd_per_m2  price_per_m2  floor  rooms  expenses  \\\n2                NaN   9266.670000    NaN    NaN       NaN   \n11               NaN  31308.228070    NaN    NaN       NaN   \n14               NaN  12233.009709    NaN    NaN       NaN   \n20       1265.716429  24017.857143    NaN    NaN       NaN   \n21               NaN  16187.500000    NaN    NaN       NaN   \n\n                                        properati_url  \n2   http://tlalpan.properati.com.mx/qbi4_venta_dep...  \n11  http://benito-juarez.properati.com.mx/pdji_ven...  \n14  http://benito-juarez.properati.com.mx/onph_ven...  \n20  http://iztacalco.properati.com.mx/r6gm_venta_d...  \n21  http://benito-juarez.properati.com.mx/qvop_ven...  ",
      "text/html": "<div>\n<style scoped>\n    .dataframe tbody tr th:only-of-type {\n        vertical-align: middle;\n    }\n\n    .dataframe tbody tr th {\n        vertical-align: top;\n    }\n\n    .dataframe thead th {\n        text-align: right;\n    }\n</style>\n<table border=\"1\" class=\"dataframe\">\n  <thead>\n    <tr style=\"text-align: right;\">\n      <th></th>\n      <th>operation</th>\n      <th>property_type</th>\n      <th>place_with_parent_names</th>\n      <th>lat-lon</th>\n      <th>price</th>\n      <th>currency</th>\n      <th>price_aprox_local_currency</th>\n      <th>price_aprox_usd</th>\n      <th>surface_total_in_m2</th>\n      <th>surface_covered_in_m2</th>\n      <th>price_usd_per_m2</th>\n      <th>price_per_m2</th>\n      <th>floor</th>\n      <th>rooms</th>\n      <th>expenses</th>\n      <th>properati_url</th>\n    </tr>\n  </thead>\n  <tbody>\n    <tr>\n      <th>2</th>\n      <td>sell</td>\n      <td>apartment</td>\n      <td>|Tlalpan|Distrito Federal|México|</td>\n      <td>19.279771,-99.234597</td>\n      <td>926667.0</td>\n      <td>MXN</td>\n      <td>918284.00</td>\n      <td>48822.82</td>\n      <td>NaN</td>\n      <td>100.0</td>\n      <td>NaN</td>\n      <td>9266.670000</td>\n      <td>NaN</td>\n      <td>NaN</td>\n      <td>NaN</td>\n      <td>http://tlalpan.properati.com.mx/qbi4_venta_dep...</td>\n    </tr>\n    <tr>\n      <th>11</th>\n      <td>sell</td>\n      <td>apartment</td>\n      <td>|Benito Juárez|Distrito Federal|México|</td>\n      <td>23.634501,-102.552788</td>\n      <td>1784569.0</td>\n      <td>MXN</td>\n      <td>1768425.20</td>\n      <td>94022.66</td>\n      <td>NaN</td>\n      <td>57.0</td>\n      <td>NaN</td>\n      <td>31308.228070</td>\n      <td>NaN</td>\n      <td>NaN</td>\n      <td>NaN</td>\n      <td>http://benito-juarez.properati.com.mx/pdji_ven...</td>\n    </tr>\n    <tr>\n      <th>14</th>\n      <td>sell</td>\n      <td>apartment</td>\n      <td>|Benito Juárez|Distrito Federal|México|</td>\n      <td>19.36269,-99.150565</td>\n      <td>1260000.0</td>\n      <td>MXN</td>\n      <td>1248601.52</td>\n      <td>66384.96</td>\n      <td>NaN</td>\n      <td>103.0</td>\n      <td>NaN</td>\n      <td>12233.009709</td>\n      <td>NaN</td>\n      <td>NaN</td>\n      <td>NaN</td>\n      <td>http://benito-juarez.properati.com.mx/onph_ven...</td>\n    </tr>\n    <tr>\n      <th>20</th>\n      <td>sell</td>\n      <td>apartment</td>\n      <td>|Iztacalco|Distrito Federal|México|</td>\n      <td>19.4024128,-99.0953907</td>\n      <td>1345000.0</td>\n      <td>MXN</td>\n      <td>1333148.73</td>\n      <td>70880.12</td>\n      <td>56.0</td>\n      <td>56.0</td>\n      <td>1265.716429</td>\n      <td>24017.857143</td>\n      <td>NaN</td>\n      <td>NaN</td>\n      <td>NaN</td>\n      <td>http://iztacalco.properati.com.mx/r6gm_venta_d...</td>\n    </tr>\n    <tr>\n      <th>21</th>\n      <td>sell</td>\n      <td>apartment</td>\n      <td>|Benito Juárez|Distrito Federal|México|</td>\n      <td>19.35782,-99.149406</td>\n      <td>1295000.0</td>\n      <td>MXN</td>\n      <td>1283284.95</td>\n      <td>68228.99</td>\n      <td>NaN</td>\n      <td>80.0</td>\n      <td>NaN</td>\n      <td>16187.500000</td>\n      <td>NaN</td>\n      <td>NaN</td>\n      <td>NaN</td>\n      <td>http://benito-juarez.properati.com.mx/qvop_ven...</td>\n    </tr>\n  </tbody>\n</table>\n</div>"
     },
     "execution_count": 8,
     "metadata": {},
     "output_type": "execute_result"
    }
   ],
   "source": [
    "df.head()"
   ],
   "metadata": {
    "collapsed": false,
    "pycharm": {
     "name": "#%%\n"
    }
   }
  },
  {
   "cell_type": "markdown",
   "source": [
    "Size is an important factor in determining the price of apartments, so I will be considering that next."
   ],
   "metadata": {
    "collapsed": false,
    "pycharm": {
     "name": "#%% md\n"
    }
   }
  },
  {
   "cell_type": "code",
   "execution_count": 11,
   "outputs": [
    {
     "name": "stdout",
     "output_type": "stream",
     "text": [
      "<class 'pandas.core.frame.DataFrame'>\n",
      "Int64Index: 1405 entries, 2 to 4622\n",
      "Data columns (total 16 columns):\n",
      " #   Column                      Non-Null Count  Dtype  \n",
      "---  ------                      --------------  -----  \n",
      " 0   operation                   1405 non-null   object \n",
      " 1   property_type               1405 non-null   object \n",
      " 2   place_with_parent_names     1405 non-null   object \n",
      " 3   lat-lon                     1318 non-null   object \n",
      " 4   price                       1405 non-null   float64\n",
      " 5   currency                    1405 non-null   object \n",
      " 6   price_aprox_local_currency  1405 non-null   float64\n",
      " 7   price_aprox_usd             1405 non-null   float64\n",
      " 8   surface_total_in_m2         185 non-null    float64\n",
      " 9   surface_covered_in_m2       1366 non-null   float64\n",
      " 10  price_usd_per_m2            128 non-null    float64\n",
      " 11  price_per_m2                1352 non-null   float64\n",
      " 12  floor                       0 non-null      float64\n",
      " 13  rooms                       33 non-null     float64\n",
      " 14  expenses                    1 non-null      float64\n",
      " 15  properati_url               1405 non-null   object \n",
      "dtypes: float64(10), object(6)\n",
      "memory usage: 186.6+ KB\n"
     ]
    }
   ],
   "source": [
    "df.info()"
   ],
   "metadata": {
    "collapsed": false,
    "pycharm": {
     "name": "#%%\n"
    }
   }
  },
  {
   "cell_type": "code",
   "execution_count": 14,
   "outputs": [
    {
     "data": {
      "text/plain": "<Figure size 640x480 with 1 Axes>",
      "image/png": "[encoded data removed]"
     },
     "metadata": {},
     "output_type": "display_data"
    }
   ],
   "source": [
    "# Create a histogram of \"surface_covered_in_m2 to see the distribution of apartment sizes\n",
    "plt.hist(df[\"surface_covered_in_m2\"])\n",
    "plt.xlabel('Area [sq meters]')\n",
    "plt.title(\"Distribution of Apartment Sizes\");"
   ],
   "metadata": {
    "collapsed": false,
    "pycharm": {
     "name": "#%%\n"
    }
   }
  },
  {
   "cell_type": "markdown",
   "source": [
    "This graph indicates the presence of outlers which can affect model performance, to further investigate, I will check the summary statistics of surface_covered_in_m2"
   ],
   "metadata": {
    "collapsed": false,
    "pycharm": {
     "name": "#%% md\n"
    }
   }
  },
  {
   "cell_type": "code",
   "execution_count": 16,
   "outputs": [
    {
     "data": {
      "text/plain": "count     1366.000000\nmean       105.868228\nstd        875.098328\nmin          0.000000\n25%         56.000000\n50%         65.000000\n75%         80.000000\nmax      31840.000000\nName: surface_covered_in_m2, dtype: float64"
     },
     "execution_count": 16,
     "metadata": {},
     "output_type": "execute_result"
    }
   ],
   "source": [
    "df['surface_covered_in_m2'].describe()"
   ],
   "metadata": {
    "collapsed": false,
    "pycharm": {
     "name": "#%%\n"
    }
   }
  },
  {
   "cell_type": "markdown",
   "source": [
    "The summary statistics of surface_covered_in_m2 confirms that while most of the data are smaller than 85,000 square meters, some are several thousand meters. Best course of action is to remove them from the dataset and add the mask to the wrangle function above."
   ],
   "metadata": {
    "collapsed": false,
    "pycharm": {
     "name": "#%% md\n"
    }
   }
  },
  {
   "cell_type": "code",
   "execution_count": 17,
   "outputs": [],
   "source": [
    "# Subset data: Remove outliers for \"surface_covered_in_m2\"\n",
    "low, high = df[\"surface_covered_in_m2\"].quantile([0.1, 0.9])\n",
    "mask_area = df[\"surface_covered_in_m2\"].between(low, high)\n",
    "df = df[mask_area]"
   ],
   "metadata": {
    "collapsed": false,
    "pycharm": {
     "name": "#%%\n"
    }
   }
  },
  {
   "cell_type": "code",
   "execution_count": 18,
   "outputs": [
    {
     "data": {
      "text/plain": "<Figure size 640x480 with 1 Axes>",
      "image/png": "[encoded data removed]"
     },
     "metadata": {},
     "output_type": "display_data"
    }
   ],
   "source": [
    "# Redo the histogram\n",
    "plt.hist(df[\"surface_covered_in_m2\"])\n",
    "plt.xlabel('Area [sq meters]')\n",
    "plt.title(\"Distribution of Apartment Sizes\");"
   ],
   "metadata": {
    "collapsed": false,
    "pycharm": {
     "name": "#%%\n"
    }
   }
  },
  {
   "cell_type": "markdown",
   "source": [
    "The \"lat-lon\" column should be split into individual columns and the \"lat-lon\" column should be dropped. This will also be added to the wrangle function above."
   ],
   "metadata": {
    "collapsed": false,
    "pycharm": {
     "name": "#%% md\n"
    }
   }
  },
  {
   "cell_type": "code",
   "execution_count": 21,
   "outputs": [
    {
     "data": {
      "text/plain": "   operation property_type                  place_with_parent_names  \\\n11      sell     apartment  |Benito Juárez|Distrito Federal|México|   \n20      sell     apartment      |Iztacalco|Distrito Federal|México|   \n21      sell     apartment  |Benito Juárez|Distrito Federal|México|   \n22      sell     apartment   |Azcapotzalco|Distrito Federal|México|   \n26      sell     apartment       |Coyoacán|Distrito Federal|México|   \n\n        price currency  price_aprox_local_currency  price_aprox_usd  \\\n11  1784569.0      MXN                  1768425.20         94022.66   \n20  1345000.0      MXN                  1333148.73         70880.12   \n21  1295000.0      MXN                  1283284.95         68228.99   \n22   460000.0      MXN                   455838.66         24235.78   \n26  1786800.0      MXN                  1770635.95         94140.20   \n\n    surface_total_in_m2  surface_covered_in_m2  price_usd_per_m2  \\\n11                  NaN                   57.0               NaN   \n20                 56.0                   56.0       1265.716429   \n21                  NaN                   80.0               NaN   \n22                  NaN                   60.0               NaN   \n26                  NaN                   50.0               NaN   \n\n    price_per_m2  floor  rooms  expenses  \\\n11  31308.228070    NaN    NaN       NaN   \n20  24017.857143    NaN    NaN       NaN   \n21  16187.500000    NaN    NaN       NaN   \n22   7666.666667    NaN    NaN       NaN   \n26  35736.000000    NaN    NaN       NaN   \n\n                                        properati_url        lat         lon  \n11  http://benito-juarez.properati.com.mx/pdji_ven...  23.634501 -102.552788  \n20  http://iztacalco.properati.com.mx/r6gm_venta_d...  19.402413  -99.095391  \n21  http://benito-juarez.properati.com.mx/qvop_ven...  19.357820  -99.149406  \n22  http://prados-del-rosario.properati.com.mx/qba...  19.504985  -99.208557  \n26  http://prado-churubusco.properati.com.mx/pm05_...  19.354219  -99.126244  ",
      "text/html": "<div>\n<style scoped>\n    .dataframe tbody tr th:only-of-type {\n        vertical-align: middle;\n    }\n\n    .dataframe tbody tr th {\n        vertical-align: top;\n    }\n\n    .dataframe thead th {\n        text-align: right;\n    }\n</style>\n<table border=\"1\" class=\"dataframe\">\n  <thead>\n    <tr style=\"text-align: right;\">\n      <th></th>\n      <th>operation</th>\n      <th>property_type</th>\n      <th>place_with_parent_names</th>\n      <th>price</th>\n      <th>currency</th>\n      <th>price_aprox_local_currency</th>\n      <th>price_aprox_usd</th>\n      <th>surface_total_in_m2</th>\n      <th>surface_covered_in_m2</th>\n      <th>price_usd_per_m2</th>\n      <th>price_per_m2</th>\n      <th>floor</th>\n      <th>rooms</th>\n      <th>expenses</th>\n      <th>properati_url</th>\n      <th>lat</th>\n      <th>lon</th>\n    </tr>\n  </thead>\n  <tbody>\n    <tr>\n      <th>11</th>\n      <td>sell</td>\n      <td>apartment</td>\n      <td>|Benito Juárez|Distrito Federal|México|</td>\n      <td>1784569.0</td>\n      <td>MXN</td>\n      <td>1768425.20</td>\n      <td>94022.66</td>\n      <td>NaN</td>\n      <td>57.0</td>\n      <td>NaN</td>\n      <td>31308.228070</td>\n      <td>NaN</td>\n      <td>NaN</td>\n      <td>NaN</td>\n      <td>http://benito-juarez.properati.com.mx/pdji_ven...</td>\n      <td>23.634501</td>\n      <td>-102.552788</td>\n    </tr>\n    <tr>\n      <th>20</th>\n      <td>sell</td>\n      <td>apartment</td>\n      <td>|Iztacalco|Distrito Federal|México|</td>\n      <td>1345000.0</td>\n      <td>MXN</td>\n      <td>1333148.73</td>\n      <td>70880.12</td>\n      <td>56.0</td>\n      <td>56.0</td>\n      <td>1265.716429</td>\n      <td>24017.857143</td>\n      <td>NaN</td>\n      <td>NaN</td>\n      <td>NaN</td>\n      <td>http://iztacalco.properati.com.mx/r6gm_venta_d...</td>\n      <td>19.402413</td>\n      <td>-99.095391</td>\n    </tr>\n    <tr>\n      <th>21</th>\n      <td>sell</td>\n      <td>apartment</td>\n      <td>|Benito Juárez|Distrito Federal|México|</td>\n      <td>1295000.0</td>\n      <td>MXN</td>\n      <td>1283284.95</td>\n      <td>68228.99</td>\n      <td>NaN</td>\n      <td>80.0</td>\n      <td>NaN</td>\n      <td>16187.500000</td>\n      <td>NaN</td>\n      <td>NaN</td>\n      <td>NaN</td>\n      <td>http://benito-juarez.properati.com.mx/qvop_ven...</td>\n      <td>19.357820</td>\n      <td>-99.149406</td>\n    </tr>\n    <tr>\n      <th>22</th>\n      <td>sell</td>\n      <td>apartment</td>\n      <td>|Azcapotzalco|Distrito Federal|México|</td>\n      <td>460000.0</td>\n      <td>MXN</td>\n      <td>455838.66</td>\n      <td>24235.78</td>\n      <td>NaN</td>\n      <td>60.0</td>\n      <td>NaN</td>\n      <td>7666.666667</td>\n      <td>NaN</td>\n      <td>NaN</td>\n      <td>NaN</td>\n      <td>http://prados-del-rosario.properati.com.mx/qba...</td>\n      <td>19.504985</td>\n      <td>-99.208557</td>\n    </tr>\n    <tr>\n      <th>26</th>\n      <td>sell</td>\n      <td>apartment</td>\n      <td>|Coyoacán|Distrito Federal|México|</td>\n      <td>1786800.0</td>\n      <td>MXN</td>\n      <td>1770635.95</td>\n      <td>94140.20</td>\n      <td>NaN</td>\n      <td>50.0</td>\n      <td>NaN</td>\n      <td>35736.000000</td>\n      <td>NaN</td>\n      <td>NaN</td>\n      <td>NaN</td>\n      <td>http://prado-churubusco.properati.com.mx/pm05_...</td>\n      <td>19.354219</td>\n      <td>-99.126244</td>\n    </tr>\n  </tbody>\n</table>\n</div>"
     },
     "execution_count": 21,
     "metadata": {},
     "output_type": "execute_result"
    }
   ],
   "source": [
    "# Split \"lat-lon\" column\n",
    "df[[\"lat\", \"lon\"]] = df[\"lat-lon\"].str.split(\",\", expand=True).astype(float)\n",
    "df.drop(columns=\"lat-lon\", inplace=True)\n",
    "df.head()"
   ],
   "metadata": {
    "collapsed": false,
    "pycharm": {
     "name": "#%%\n"
    }
   }
  },
  {
   "cell_type": "markdown",
   "source": [
    "In the place with parent names column, we can see that there are three distinct strings separated by a '|', they are \"borough\", \"state\" and \"country\" respectively.\n",
    "A borough column would be very useful for the model, so I will create one and drop the place with parent names column."
   ],
   "metadata": {
    "collapsed": false,
    "pycharm": {
     "name": "#%% md\n"
    }
   }
  },
  {
   "cell_type": "code",
   "execution_count": 25,
   "outputs": [],
   "source": [
    "# Create a borough column and drop the place_with_parent_names column\n",
    "df[\"borough\"] = df[\"place_with_parent_names\"].str.split(\"|\", expand=True)[1]\n",
    "df.drop(columns=\"place_with_parent_names\", inplace=True)"
   ],
   "metadata": {
    "collapsed": false,
    "pycharm": {
     "name": "#%%\n"
    }
   }
  },
  {
   "cell_type": "markdown",
   "source": [],
   "metadata": {
    "collapsed": false,
    "pycharm": {
     "name": "#%% md\n"
    }
   }
  },
  {
   "cell_type": "markdown",
   "source": [
    "For columns with null values, if there are over 50% null values in a column, it will be preferable if these columns are dropped."
   ],
   "metadata": {
    "collapsed": false,
    "pycharm": {
     "name": "#%% md\n"
    }
   }
  },
  {
   "cell_type": "code",
   "execution_count": 29,
   "outputs": [
    {
     "name": "stdout",
     "output_type": "stream",
     "text": [
      "<class 'pandas.core.frame.DataFrame'>\n",
      "Int64Index: 1101 entries, 11 to 4605\n",
      "Data columns (total 17 columns):\n",
      " #   Column                      Non-Null Count  Dtype  \n",
      "---  ------                      --------------  -----  \n",
      " 0   operation                   1101 non-null   object \n",
      " 1   property_type               1101 non-null   object \n",
      " 2   price                       1101 non-null   float64\n",
      " 3   currency                    1101 non-null   object \n",
      " 4   price_aprox_local_currency  1101 non-null   float64\n",
      " 5   price_aprox_usd             1101 non-null   float64\n",
      " 6   surface_total_in_m2         101 non-null    float64\n",
      " 7   surface_covered_in_m2       1101 non-null   float64\n",
      " 8   price_usd_per_m2            70 non-null     float64\n",
      " 9   price_per_m2                1101 non-null   float64\n",
      " 10  floor                       0 non-null      float64\n",
      " 11  rooms                       6 non-null      float64\n",
      " 12  expenses                    0 non-null      float64\n",
      " 13  properati_url               1101 non-null   object \n",
      " 14  lat                         1041 non-null   float64\n",
      " 15  lon                         1041 non-null   float64\n",
      " 16  borough                     1101 non-null   object \n",
      "dtypes: float64(12), object(5)\n",
      "memory usage: 154.8+ KB\n"
     ]
    }
   ],
   "source": [
    "df.info()"
   ],
   "metadata": {
    "collapsed": false,
    "pycharm": {
     "name": "#%%\n"
    }
   }
  },
  {
   "cell_type": "code",
   "execution_count": 30,
   "outputs": [
    {
     "data": {
      "text/plain": "operation                     0.000000\nproperty_type                 0.000000\nprice                         0.000000\ncurrency                      0.000000\nprice_aprox_local_currency    0.000000\nprice_aprox_usd               0.000000\nsurface_total_in_m2           0.908265\nsurface_covered_in_m2         0.000000\nprice_usd_per_m2              0.936421\nprice_per_m2                  0.000000\nfloor                         1.000000\nrooms                         0.994550\nexpenses                      1.000000\nproperati_url                 0.000000\nlat                           0.054496\nlon                           0.054496\nborough                       0.000000\ndtype: float64"
     },
     "execution_count": 30,
     "metadata": {},
     "output_type": "execute_result"
    }
   ],
   "source": [
    "df.isnull().sum() / len(df)"
   ],
   "metadata": {
    "collapsed": false,
    "pycharm": {
     "name": "#%%\n"
    }
   }
  },
  {
   "cell_type": "code",
   "execution_count": null,
   "outputs": [],
   "source": [
    " # Drop columns with over 50% null values\n",
    "df.drop(columns=[\"floor\" ,\"expenses\"], inplace=True)"
   ],
   "metadata": {
    "collapsed": false,
    "pycharm": {
     "name": "#%%\n"
    }
   }
  },
  {
   "cell_type": "markdown",
   "source": [
    "The next thing we need to look out for are categorical columns with **low or high cardinality**. If there's only one category in a column, it won't provide any unique information to our model. At the other extreme, columns where nearly every row has its own category won't help our model in identifying useful trends in the data.\n"
   ],
   "metadata": {
    "collapsed": false,
    "pycharm": {
     "name": "#%% md\n"
    }
   }
  },
  {
   "cell_type": "markdown",
   "source": [],
   "metadata": {
    "collapsed": false,
    "pycharm": {
     "name": "#%% md\n"
    }
   }
  },
  {
   "cell_type": "code",
   "execution_count": 33,
   "outputs": [
    {
     "data": {
      "text/plain": "operation           1\nproperty_type       1\ncurrency            1\nproperati_url    1101\nborough            14\ndtype: int64"
     },
     "execution_count": 33,
     "metadata": {},
     "output_type": "execute_result"
    }
   ],
   "source": [
    "df.select_dtypes(\"object\").nunique()"
   ],
   "metadata": {
    "collapsed": false,
    "pycharm": {
     "name": "#%%\n"
    }
   }
  },
  {
   "cell_type": "markdown",
   "source": [
    "Here, we can see that columns like `\"operation\"` have only one value in them, while every row in `\"properati_url\"` has a unique value. These are clear examples of high- and low-cardinality features that we shouldn't include in our model."
   ],
   "metadata": {
    "collapsed": false,
    "pycharm": {
     "name": "#%% md\n"
    }
   }
  },
  {
   "cell_type": "markdown",
   "source": [
    "It's also important for us to drop any columns that would constitute *leakage* , that is, features that were created using our target or that would give our model information that it won't have access to when it's deployed. Our target is \"price_aprox_usd\""
   ],
   "metadata": {
    "collapsed": false,
    "pycharm": {
     "name": "#%% md\n"
    }
   }
  },
  {
   "cell_type": "code",
   "execution_count": 38,
   "outputs": [
    {
     "data": {
      "text/plain": "['borough',\n 'lat',\n 'lon',\n 'price',\n 'price_aprox_local_currency',\n 'price_aprox_usd',\n 'price_per_m2',\n 'price_usd_per_m2',\n 'rooms',\n 'surface_covered_in_m2',\n 'surface_total_in_m2']"
     },
     "execution_count": 38,
     "metadata": {},
     "output_type": "execute_result"
    }
   ],
   "source": [
    "sorted(df.columns)"
   ],
   "metadata": {
    "collapsed": false,
    "pycharm": {
     "name": "#%%\n"
    }
   }
  },
  {
   "cell_type": "markdown",
   "source": [
    "From the list above, the columns that will constitute leakage for our target are price, price_aprox_local_currency, price_per_m2 and price_usd_per_m2."
   ],
   "metadata": {
    "collapsed": false,
    "pycharm": {
     "name": "#%% md\n"
    }
   }
  },
  {
   "cell_type": "code",
   "execution_count": null,
   "outputs": [],
   "source": [
    "# Drop Leaky Columns\n",
    "df.drop(columns=[\"price\", \"price_aprox_local_currency\",\"price_usd_per_m2\", \"price_per_m2\"], inplace=True)\n"
   ],
   "metadata": {
    "collapsed": false,
    "pycharm": {
     "name": "#%%\n",
     "is_executing": true
    }
   }
  },
  {
   "cell_type": "markdown",
   "source": [
    "Finally, the last issue we need to keep an eye out for is multicollinearity, that is, features in our feature matrix that are highly correlated with each other. A good way to detect this is to use a heatmap"
   ],
   "metadata": {
    "collapsed": false,
    "pycharm": {
     "name": "#%% md\n"
    }
   }
  },
  {
   "cell_type": "code",
   "execution_count": 50,
   "outputs": [
    {
     "data": {
      "text/plain": "<Figure size 640x480 with 2 Axes>",
      "image/png": "[encoded data removed]"
     },
     "metadata": {},
     "output_type": "display_data"
    }
   ],
   "source": [
    "corr = df.select_dtypes(\"number\").drop(columns=\"price_aprox_usd\").corr()\n",
    "sns.heatmap(corr);\n"
   ],
   "metadata": {
    "collapsed": false,
    "pycharm": {
     "name": "#%%\n"
    }
   }
  },
  {
   "cell_type": "markdown",
   "source": [],
   "metadata": {
    "collapsed": false,
    "pycharm": {
     "name": "#%% md\n"
    }
   }
  },
  {
   "cell_type": "markdown",
   "source": [
    "From the heatmap above we can see that the columns with multicolinearity are \"surface_total_in_m2\" and \"rooms\" so they will be dropped."
   ],
   "metadata": {
    "collapsed": false,
    "pycharm": {
     "name": "#%% md\n"
    }
   }
  },
  {
   "cell_type": "code",
   "execution_count": 51,
   "outputs": [],
   "source": [
    "# Drop columns with multicolinearity\n",
    "df.drop(columns=[\"surface_total_in_m2\", \"rooms\"], inplace=True)"
   ],
   "metadata": {
    "collapsed": false,
    "pycharm": {
     "name": "#%%\n"
    }
   }
  }
 ],
 "metadata": {
  "kernelspec": {
   "display_name": "Python 3",
   "language": "python",
   "name": "python3"
  },
  "language_info": {
   "codemirror_mode": {
    "name": "ipython",
    "version": 2
   },
   "file_extension": ".py",
   "mimetype": "text/x-python",
   "name": "python",
   "nbconvert_exporter": "python",
   "pygments_lexer": "ipython2",
   "version": "2.7.6"
  }
 },
 "nbformat": 4,
 "nbformat_minor": 0
}