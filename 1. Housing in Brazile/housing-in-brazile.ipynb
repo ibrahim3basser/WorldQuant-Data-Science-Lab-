{
 "cells": [
  {
   "cell_type": "code",
   "execution_count": 2,
   "id": "08032239",
   "metadata": {
    "_cell_guid": "b1076dfc-b9ad-4769-8c92-a6c4dae69d19",
    "_uuid": "8f2839f25d086af736a60e9eeb907d3b93b6e0e5",
    "execution": {
     "iopub.execute_input": "2022-04-19T06:24:08.732499Z",
     "iopub.status.busy": "2022-04-19T06:24:08.731434Z",
     "iopub.status.idle": "2022-04-19T06:24:10.309312Z",
     "shell.execute_reply": "2022-04-19T06:24:10.308211Z"
    },
    "papermill": {
     "duration": 1.624274,
     "end_time": "2022-04-19T06:24:10.312160",
     "exception": false,
     "start_time": "2022-04-19T06:24:08.687886",
     "status": "completed"
    },
    "tags": []
   },
   "outputs": [],
   "source": [
    "# Import Matplotlib, pandas, and plotly\n",
    "import matplotlib.pyplot as plt\n",
    "import pandas as pd\n",
    "import plotly.express as px"
   ]
  },
  {
   "cell_type": "markdown",
   "id": "ea9aa6e1",
   "metadata": {
    "papermill": {
     "duration": 0.040778,
     "end_time": "2022-04-19T06:24:10.537107",
     "exception": false,
     "start_time": "2022-04-19T06:24:10.496329",
     "status": "completed"
    },
    "tags": []
   },
   "source": [
    "\n",
    "## Prepare Data\n",
    "In this assignment, you'll work with real estate data from Brazil. In the data directory for this project there are two CSV that you need to import and clean, one-by-one.\n",
    "\n",
    "### Import\n",
    "First, you are going to import and clean the data in data/brasil-real-estate-1.csv."
   ]
  },
  {
   "cell_type": "code",
   "execution_count": 9,
   "id": "11413625",
   "metadata": {},
   "outputs": [],
   "source": [
    "df1 = pd.read_csv(r'D:/mexico/brasil-real-estate-1.csv', encoding='latin1')\n",
    "df2 = pd.read_csv(r'D:/mexico/brasil-real-estate-2.csv', encoding='latin1')\n",
    "\n",
    "# removing unwanted column called  \"unamed: 0\"\n",
    "df1 = df1.drop(\"Unnamed: 0\", axis=1)\n",
    "df2 = df2.drop(\"Unnamed: 0\", axis=1)"
   ]
  },
  {
   "cell_type": "code",
   "execution_count": 10,
   "id": "3af34e38",
   "metadata": {},
   "outputs": [
    {
     "data": {
      "text/html": [
       "<div>\n",
       "<style scoped>\n",
       "    .dataframe tbody tr th:only-of-type {\n",
       "        vertical-align: middle;\n",
       "    }\n",
       "\n",
       "    .dataframe tbody tr th {\n",
       "        vertical-align: top;\n",
       "    }\n",
       "\n",
       "    .dataframe thead th {\n",
       "        text-align: right;\n",
       "    }\n",
       "</style>\n",
       "<table border=\"1\" class=\"dataframe\">\n",
       "  <thead>\n",
       "    <tr style=\"text-align: right;\">\n",
       "      <th></th>\n",
       "      <th>property_type</th>\n",
       "      <th>place_with_parent_names</th>\n",
       "      <th>region</th>\n",
       "      <th>lat-lon</th>\n",
       "      <th>area_m2</th>\n",
       "      <th>price_usd</th>\n",
       "    </tr>\n",
       "  </thead>\n",
       "  <tbody>\n",
       "    <tr>\n",
       "      <th>0</th>\n",
       "      <td>apartment</td>\n",
       "      <td>|Brasil|Alagoas|Maceió|</td>\n",
       "      <td>Northeast</td>\n",
       "      <td>-9.6443051,-35.7088142</td>\n",
       "      <td>110</td>\n",
       "      <td>$187,230.85</td>\n",
       "    </tr>\n",
       "    <tr>\n",
       "      <th>1</th>\n",
       "      <td>apartment</td>\n",
       "      <td>|Brasil|Alagoas|Maceió|</td>\n",
       "      <td>Northeast</td>\n",
       "      <td>-9.6430934,-35.70484</td>\n",
       "      <td>65</td>\n",
       "      <td>$81,133.37</td>\n",
       "    </tr>\n",
       "    <tr>\n",
       "      <th>2</th>\n",
       "      <td>house</td>\n",
       "      <td>|Brasil|Alagoas|Maceió|</td>\n",
       "      <td>Northeast</td>\n",
       "      <td>-9.6227033,-35.7297953</td>\n",
       "      <td>211</td>\n",
       "      <td>$154,465.45</td>\n",
       "    </tr>\n",
       "    <tr>\n",
       "      <th>3</th>\n",
       "      <td>apartment</td>\n",
       "      <td>|Brasil|Alagoas|Maceió|</td>\n",
       "      <td>Northeast</td>\n",
       "      <td>-9.622837,-35.719556</td>\n",
       "      <td>99</td>\n",
       "      <td>$146,013.20</td>\n",
       "    </tr>\n",
       "    <tr>\n",
       "      <th>4</th>\n",
       "      <td>apartment</td>\n",
       "      <td>|Brasil|Alagoas|Maceió|</td>\n",
       "      <td>Northeast</td>\n",
       "      <td>-9.654955,-35.700227</td>\n",
       "      <td>55</td>\n",
       "      <td>$101,416.71</td>\n",
       "    </tr>\n",
       "  </tbody>\n",
       "</table>\n",
       "</div>"
      ],
      "text/plain": [
       "  property_type  place_with_parent_names     region                 lat-lon  \\\n",
       "0     apartment  |Brasil|Alagoas|Maceió|  Northeast  -9.6443051,-35.7088142   \n",
       "1     apartment  |Brasil|Alagoas|Maceió|  Northeast    -9.6430934,-35.70484   \n",
       "2         house  |Brasil|Alagoas|Maceió|  Northeast  -9.6227033,-35.7297953   \n",
       "3     apartment  |Brasil|Alagoas|Maceió|  Northeast    -9.622837,-35.719556   \n",
       "4     apartment  |Brasil|Alagoas|Maceió|  Northeast    -9.654955,-35.700227   \n",
       "\n",
       "   area_m2    price_usd  \n",
       "0      110  $187,230.85  \n",
       "1       65   $81,133.37  \n",
       "2      211  $154,465.45  \n",
       "3       99  $146,013.20  \n",
       "4       55  $101,416.71  "
      ]
     },
     "execution_count": 10,
     "metadata": {},
     "output_type": "execute_result"
    }
   ],
   "source": [
    "df1.head()"
   ]
  },
  {
   "cell_type": "code",
   "execution_count": 11,
   "id": "c1b6919d",
   "metadata": {},
   "outputs": [
    {
     "name": "stdout",
     "output_type": "stream",
     "text": [
      "<class 'pandas.core.frame.DataFrame'>\n",
      "RangeIndex: 12834 entries, 0 to 12833\n",
      "Data columns (total 6 columns):\n",
      "property_type              12834 non-null object\n",
      "place_with_parent_names    12834 non-null object\n",
      "region                     12834 non-null object\n",
      "lat-lon                    11551 non-null object\n",
      "area_m2                    12834 non-null int64\n",
      "price_usd                  12834 non-null object\n",
      "dtypes: int64(1), object(5)\n",
      "memory usage: 601.7+ KB\n"
     ]
    },
    {
     "data": {
      "text/html": [
       "<div>\n",
       "<style scoped>\n",
       "    .dataframe tbody tr th:only-of-type {\n",
       "        vertical-align: middle;\n",
       "    }\n",
       "\n",
       "    .dataframe tbody tr th {\n",
       "        vertical-align: top;\n",
       "    }\n",
       "\n",
       "    .dataframe thead th {\n",
       "        text-align: right;\n",
       "    }\n",
       "</style>\n",
       "<table border=\"1\" class=\"dataframe\">\n",
       "  <thead>\n",
       "    <tr style=\"text-align: right;\">\n",
       "      <th></th>\n",
       "      <th>area_m2</th>\n",
       "    </tr>\n",
       "  </thead>\n",
       "  <tbody>\n",
       "    <tr>\n",
       "      <th>count</th>\n",
       "      <td>12834.000000</td>\n",
       "    </tr>\n",
       "    <tr>\n",
       "      <th>mean</th>\n",
       "      <td>116.687003</td>\n",
       "    </tr>\n",
       "    <tr>\n",
       "      <th>std</th>\n",
       "      <td>48.260754</td>\n",
       "    </tr>\n",
       "    <tr>\n",
       "      <th>min</th>\n",
       "      <td>53.000000</td>\n",
       "    </tr>\n",
       "    <tr>\n",
       "      <th>25%</th>\n",
       "      <td>78.000000</td>\n",
       "    </tr>\n",
       "    <tr>\n",
       "      <th>50%</th>\n",
       "      <td>105.000000</td>\n",
       "    </tr>\n",
       "    <tr>\n",
       "      <th>75%</th>\n",
       "      <td>145.000000</td>\n",
       "    </tr>\n",
       "    <tr>\n",
       "      <th>max</th>\n",
       "      <td>252.000000</td>\n",
       "    </tr>\n",
       "  </tbody>\n",
       "</table>\n",
       "</div>"
      ],
      "text/plain": [
       "            area_m2\n",
       "count  12834.000000\n",
       "mean     116.687003\n",
       "std       48.260754\n",
       "min       53.000000\n",
       "25%       78.000000\n",
       "50%      105.000000\n",
       "75%      145.000000\n",
       "max      252.000000"
      ]
     },
     "execution_count": 11,
     "metadata": {},
     "output_type": "execute_result"
    }
   ],
   "source": [
    "df1.info()"
   ]
  },
  {
   "cell_type": "code",
   "execution_count": 12,
   "id": "06d3dc3e",
   "metadata": {
    "execution": {
     "iopub.execute_input": "2022-04-19T06:24:10.805150Z",
     "iopub.status.busy": "2022-04-19T06:24:10.804815Z",
     "iopub.status.idle": "2022-04-19T06:24:10.826903Z",
     "shell.execute_reply": "2022-04-19T06:24:10.826303Z"
    },
    "papermill": {
     "duration": 0.067175,
     "end_time": "2022-04-19T06:24:10.829729",
     "exception": false,
     "start_time": "2022-04-19T06:24:10.762554",
     "status": "completed"
    },
    "tags": []
   },
   "outputs": [
    {
     "name": "stdout",
     "output_type": "stream",
     "text": [
      "<class 'pandas.core.frame.DataFrame'>\n",
      "Int64Index: 11551 entries, 0 to 12833\n",
      "Data columns (total 6 columns):\n",
      "property_type              11551 non-null object\n",
      "place_with_parent_names    11551 non-null object\n",
      "region                     11551 non-null object\n",
      "lat-lon                    11551 non-null object\n",
      "area_m2                    11551 non-null int64\n",
      "price_usd                  11551 non-null object\n",
      "dtypes: int64(1), object(5)\n",
      "memory usage: 631.7+ KB\n"
     ]
    }
   ],
   "source": [
    "#dropping all rows that have null values from df1\n",
    "\n",
    "df1.dropna(inplace = True)\n",
    "df1.info()"
   ]
  },
  {
   "cell_type": "code",
   "execution_count": 13,
   "id": "d70bd9b6",
   "metadata": {
    "execution": {
     "iopub.execute_input": "2022-04-19T06:24:10.921071Z",
     "iopub.status.busy": "2022-04-19T06:24:10.920371Z",
     "iopub.status.idle": "2022-04-19T06:24:10.930635Z",
     "shell.execute_reply": "2022-04-19T06:24:10.929755Z"
    },
    "papermill": {
     "duration": 0.056598,
     "end_time": "2022-04-19T06:24:10.933073",
     "exception": false,
     "start_time": "2022-04-19T06:24:10.876475",
     "status": "completed"
    },
    "tags": []
   },
   "outputs": [
    {
     "data": {
      "text/html": [
       "<div>\n",
       "<style scoped>\n",
       "    .dataframe tbody tr th:only-of-type {\n",
       "        vertical-align: middle;\n",
       "    }\n",
       "\n",
       "    .dataframe tbody tr th {\n",
       "        vertical-align: top;\n",
       "    }\n",
       "\n",
       "    .dataframe thead th {\n",
       "        text-align: right;\n",
       "    }\n",
       "</style>\n",
       "<table border=\"1\" class=\"dataframe\">\n",
       "  <thead>\n",
       "    <tr style=\"text-align: right;\">\n",
       "      <th></th>\n",
       "      <th>property_type</th>\n",
       "      <th>place_with_parent_names</th>\n",
       "      <th>region</th>\n",
       "      <th>lat-lon</th>\n",
       "      <th>area_m2</th>\n",
       "      <th>price_usd</th>\n",
       "      <th>lat</th>\n",
       "      <th>lon</th>\n",
       "    </tr>\n",
       "  </thead>\n",
       "  <tbody>\n",
       "    <tr>\n",
       "      <th>0</th>\n",
       "      <td>apartment</td>\n",
       "      <td>|Brasil|Alagoas|Maceió|</td>\n",
       "      <td>Northeast</td>\n",
       "      <td>-9.6443051,-35.7088142</td>\n",
       "      <td>110</td>\n",
       "      <td>$187,230.85</td>\n",
       "      <td>-9.644305</td>\n",
       "      <td>-35.708814</td>\n",
       "    </tr>\n",
       "    <tr>\n",
       "      <th>1</th>\n",
       "      <td>apartment</td>\n",
       "      <td>|Brasil|Alagoas|Maceió|</td>\n",
       "      <td>Northeast</td>\n",
       "      <td>-9.6430934,-35.70484</td>\n",
       "      <td>65</td>\n",
       "      <td>$81,133.37</td>\n",
       "      <td>-9.643093</td>\n",
       "      <td>-35.704840</td>\n",
       "    </tr>\n",
       "    <tr>\n",
       "      <th>2</th>\n",
       "      <td>house</td>\n",
       "      <td>|Brasil|Alagoas|Maceió|</td>\n",
       "      <td>Northeast</td>\n",
       "      <td>-9.6227033,-35.7297953</td>\n",
       "      <td>211</td>\n",
       "      <td>$154,465.45</td>\n",
       "      <td>-9.622703</td>\n",
       "      <td>-35.729795</td>\n",
       "    </tr>\n",
       "    <tr>\n",
       "      <th>3</th>\n",
       "      <td>apartment</td>\n",
       "      <td>|Brasil|Alagoas|Maceió|</td>\n",
       "      <td>Northeast</td>\n",
       "      <td>-9.622837,-35.719556</td>\n",
       "      <td>99</td>\n",
       "      <td>$146,013.20</td>\n",
       "      <td>-9.622837</td>\n",
       "      <td>-35.719556</td>\n",
       "    </tr>\n",
       "    <tr>\n",
       "      <th>4</th>\n",
       "      <td>apartment</td>\n",
       "      <td>|Brasil|Alagoas|Maceió|</td>\n",
       "      <td>Northeast</td>\n",
       "      <td>-9.654955,-35.700227</td>\n",
       "      <td>55</td>\n",
       "      <td>$101,416.71</td>\n",
       "      <td>-9.654955</td>\n",
       "      <td>-35.700227</td>\n",
       "    </tr>\n",
       "  </tbody>\n",
       "</table>\n",
       "</div>"
      ],
      "text/plain": [
       "  property_type  place_with_parent_names     region                 lat-lon  \\\n",
       "0     apartment  |Brasil|Alagoas|Maceió|  Northeast  -9.6443051,-35.7088142   \n",
       "1     apartment  |Brasil|Alagoas|Maceió|  Northeast    -9.6430934,-35.70484   \n",
       "2         house  |Brasil|Alagoas|Maceió|  Northeast  -9.6227033,-35.7297953   \n",
       "3     apartment  |Brasil|Alagoas|Maceió|  Northeast    -9.622837,-35.719556   \n",
       "4     apartment  |Brasil|Alagoas|Maceió|  Northeast    -9.654955,-35.700227   \n",
       "\n",
       "   area_m2    price_usd       lat        lon  \n",
       "0      110  $187,230.85 -9.644305 -35.708814  \n",
       "1       65   $81,133.37 -9.643093 -35.704840  \n",
       "2      211  $154,465.45 -9.622703 -35.729795  \n",
       "3       99  $146,013.20 -9.622837 -35.719556  \n",
       "4       55  $101,416.71 -9.654955 -35.700227  "
      ]
     },
     "execution_count": 13,
     "metadata": {},
     "output_type": "execute_result"
    }
   ],
   "source": [
    "# create two separate columns in df1: \"lat\" and \"lon\" from \"lat-lon\" column\n",
    "df1[['lat','lon']] = df1['lat-lon'].str.split(',',expand=True).astype(float)\n",
    "df1.head()"
   ]
  },
  {
   "cell_type": "code",
   "execution_count": 14,
   "id": "1bb197fa",
   "metadata": {},
   "outputs": [
    {
     "data": {
      "text/html": [
       "<div>\n",
       "<style scoped>\n",
       "    .dataframe tbody tr th:only-of-type {\n",
       "        vertical-align: middle;\n",
       "    }\n",
       "\n",
       "    .dataframe tbody tr th {\n",
       "        vertical-align: top;\n",
       "    }\n",
       "\n",
       "    .dataframe thead th {\n",
       "        text-align: right;\n",
       "    }\n",
       "</style>\n",
       "<table border=\"1\" class=\"dataframe\">\n",
       "  <thead>\n",
       "    <tr style=\"text-align: right;\">\n",
       "      <th></th>\n",
       "      <th>property_type</th>\n",
       "      <th>place_with_parent_names</th>\n",
       "      <th>region</th>\n",
       "      <th>lat-lon</th>\n",
       "      <th>area_m2</th>\n",
       "      <th>price_usd</th>\n",
       "      <th>lat</th>\n",
       "      <th>lon</th>\n",
       "      <th>state</th>\n",
       "    </tr>\n",
       "  </thead>\n",
       "  <tbody>\n",
       "    <tr>\n",
       "      <th>0</th>\n",
       "      <td>apartment</td>\n",
       "      <td>|Brasil|Alagoas|Maceió|</td>\n",
       "      <td>Northeast</td>\n",
       "      <td>-9.6443051,-35.7088142</td>\n",
       "      <td>110</td>\n",
       "      <td>$187,230.85</td>\n",
       "      <td>-9.644305</td>\n",
       "      <td>-35.708814</td>\n",
       "      <td>Alagoas</td>\n",
       "    </tr>\n",
       "    <tr>\n",
       "      <th>1</th>\n",
       "      <td>apartment</td>\n",
       "      <td>|Brasil|Alagoas|Maceió|</td>\n",
       "      <td>Northeast</td>\n",
       "      <td>-9.6430934,-35.70484</td>\n",
       "      <td>65</td>\n",
       "      <td>$81,133.37</td>\n",
       "      <td>-9.643093</td>\n",
       "      <td>-35.704840</td>\n",
       "      <td>Alagoas</td>\n",
       "    </tr>\n",
       "    <tr>\n",
       "      <th>2</th>\n",
       "      <td>house</td>\n",
       "      <td>|Brasil|Alagoas|Maceió|</td>\n",
       "      <td>Northeast</td>\n",
       "      <td>-9.6227033,-35.7297953</td>\n",
       "      <td>211</td>\n",
       "      <td>$154,465.45</td>\n",
       "      <td>-9.622703</td>\n",
       "      <td>-35.729795</td>\n",
       "      <td>Alagoas</td>\n",
       "    </tr>\n",
       "    <tr>\n",
       "      <th>3</th>\n",
       "      <td>apartment</td>\n",
       "      <td>|Brasil|Alagoas|Maceió|</td>\n",
       "      <td>Northeast</td>\n",
       "      <td>-9.622837,-35.719556</td>\n",
       "      <td>99</td>\n",
       "      <td>$146,013.20</td>\n",
       "      <td>-9.622837</td>\n",
       "      <td>-35.719556</td>\n",
       "      <td>Alagoas</td>\n",
       "    </tr>\n",
       "    <tr>\n",
       "      <th>4</th>\n",
       "      <td>apartment</td>\n",
       "      <td>|Brasil|Alagoas|Maceió|</td>\n",
       "      <td>Northeast</td>\n",
       "      <td>-9.654955,-35.700227</td>\n",
       "      <td>55</td>\n",
       "      <td>$101,416.71</td>\n",
       "      <td>-9.654955</td>\n",
       "      <td>-35.700227</td>\n",
       "      <td>Alagoas</td>\n",
       "    </tr>\n",
       "  </tbody>\n",
       "</table>\n",
       "</div>"
      ],
      "text/plain": [
       "  property_type  place_with_parent_names     region                 lat-lon  \\\n",
       "0     apartment  |Brasil|Alagoas|Maceió|  Northeast  -9.6443051,-35.7088142   \n",
       "1     apartment  |Brasil|Alagoas|Maceió|  Northeast    -9.6430934,-35.70484   \n",
       "2         house  |Brasil|Alagoas|Maceió|  Northeast  -9.6227033,-35.7297953   \n",
       "3     apartment  |Brasil|Alagoas|Maceió|  Northeast    -9.622837,-35.719556   \n",
       "4     apartment  |Brasil|Alagoas|Maceió|  Northeast    -9.654955,-35.700227   \n",
       "\n",
       "   area_m2    price_usd       lat        lon    state  \n",
       "0      110  $187,230.85 -9.644305 -35.708814  Alagoas  \n",
       "1       65   $81,133.37 -9.643093 -35.704840  Alagoas  \n",
       "2      211  $154,465.45 -9.622703 -35.729795  Alagoas  \n",
       "3       99  $146,013.20 -9.622837 -35.719556  Alagoas  \n",
       "4       55  $101,416.71 -9.654955 -35.700227  Alagoas  "
      ]
     },
     "execution_count": 14,
     "metadata": {},
     "output_type": "execute_result"
    }
   ],
   "source": [
    "# create \"state\" column from \"place_with_parent_names\" column for df1\n",
    "df1['state'] = df1['place_with_parent_names'].str.split('|',expand=True)[2]\n",
    "df1.head()"
   ]
  },
  {
   "cell_type": "code",
   "execution_count": 15,
   "id": "6dad065b",
   "metadata": {},
   "outputs": [
    {
     "data": {
      "text/html": [
       "<div>\n",
       "<style scoped>\n",
       "    .dataframe tbody tr th:only-of-type {\n",
       "        vertical-align: middle;\n",
       "    }\n",
       "\n",
       "    .dataframe tbody tr th {\n",
       "        vertical-align: top;\n",
       "    }\n",
       "\n",
       "    .dataframe thead th {\n",
       "        text-align: right;\n",
       "    }\n",
       "</style>\n",
       "<table border=\"1\" class=\"dataframe\">\n",
       "  <thead>\n",
       "    <tr style=\"text-align: right;\">\n",
       "      <th></th>\n",
       "      <th>property_type</th>\n",
       "      <th>place_with_parent_names</th>\n",
       "      <th>region</th>\n",
       "      <th>lat-lon</th>\n",
       "      <th>area_m2</th>\n",
       "      <th>price_usd</th>\n",
       "      <th>lat</th>\n",
       "      <th>lon</th>\n",
       "      <th>state</th>\n",
       "    </tr>\n",
       "  </thead>\n",
       "  <tbody>\n",
       "    <tr>\n",
       "      <th>0</th>\n",
       "      <td>apartment</td>\n",
       "      <td>|Brasil|Alagoas|Maceió|</td>\n",
       "      <td>Northeast</td>\n",
       "      <td>-9.6443051,-35.7088142</td>\n",
       "      <td>110</td>\n",
       "      <td>187230.85</td>\n",
       "      <td>-9.644305</td>\n",
       "      <td>-35.708814</td>\n",
       "      <td>Alagoas</td>\n",
       "    </tr>\n",
       "    <tr>\n",
       "      <th>1</th>\n",
       "      <td>apartment</td>\n",
       "      <td>|Brasil|Alagoas|Maceió|</td>\n",
       "      <td>Northeast</td>\n",
       "      <td>-9.6430934,-35.70484</td>\n",
       "      <td>65</td>\n",
       "      <td>81133.37</td>\n",
       "      <td>-9.643093</td>\n",
       "      <td>-35.704840</td>\n",
       "      <td>Alagoas</td>\n",
       "    </tr>\n",
       "    <tr>\n",
       "      <th>2</th>\n",
       "      <td>house</td>\n",
       "      <td>|Brasil|Alagoas|Maceió|</td>\n",
       "      <td>Northeast</td>\n",
       "      <td>-9.6227033,-35.7297953</td>\n",
       "      <td>211</td>\n",
       "      <td>154465.45</td>\n",
       "      <td>-9.622703</td>\n",
       "      <td>-35.729795</td>\n",
       "      <td>Alagoas</td>\n",
       "    </tr>\n",
       "    <tr>\n",
       "      <th>3</th>\n",
       "      <td>apartment</td>\n",
       "      <td>|Brasil|Alagoas|Maceió|</td>\n",
       "      <td>Northeast</td>\n",
       "      <td>-9.622837,-35.719556</td>\n",
       "      <td>99</td>\n",
       "      <td>146013.20</td>\n",
       "      <td>-9.622837</td>\n",
       "      <td>-35.719556</td>\n",
       "      <td>Alagoas</td>\n",
       "    </tr>\n",
       "    <tr>\n",
       "      <th>4</th>\n",
       "      <td>apartment</td>\n",
       "      <td>|Brasil|Alagoas|Maceió|</td>\n",
       "      <td>Northeast</td>\n",
       "      <td>-9.654955,-35.700227</td>\n",
       "      <td>55</td>\n",
       "      <td>101416.71</td>\n",
       "      <td>-9.654955</td>\n",
       "      <td>-35.700227</td>\n",
       "      <td>Alagoas</td>\n",
       "    </tr>\n",
       "  </tbody>\n",
       "</table>\n",
       "</div>"
      ],
      "text/plain": [
       "  property_type  place_with_parent_names     region                 lat-lon  \\\n",
       "0     apartment  |Brasil|Alagoas|Maceió|  Northeast  -9.6443051,-35.7088142   \n",
       "1     apartment  |Brasil|Alagoas|Maceió|  Northeast    -9.6430934,-35.70484   \n",
       "2         house  |Brasil|Alagoas|Maceió|  Northeast  -9.6227033,-35.7297953   \n",
       "3     apartment  |Brasil|Alagoas|Maceió|  Northeast    -9.622837,-35.719556   \n",
       "4     apartment  |Brasil|Alagoas|Maceió|  Northeast    -9.654955,-35.700227   \n",
       "\n",
       "   area_m2  price_usd       lat        lon    state  \n",
       "0      110  187230.85 -9.644305 -35.708814  Alagoas  \n",
       "1       65   81133.37 -9.643093 -35.704840  Alagoas  \n",
       "2      211  154465.45 -9.622703 -35.729795  Alagoas  \n",
       "3       99  146013.20 -9.622837 -35.719556  Alagoas  \n",
       "4       55  101416.71 -9.654955 -35.700227  Alagoas  "
      ]
     },
     "execution_count": 15,
     "metadata": {},
     "output_type": "execute_result"
    }
   ],
   "source": [
    "# change the \"price_usd\" column to by float and remove '$'\n",
    "df1['price_usd'] = df1['price_usd'].str.replace('$','',regex=True).replace(',','',regex=True).astype(float)\n",
    "df1.head()"
   ]
  },
  {
   "cell_type": "code",
   "execution_count": 16,
   "id": "c1a64a79",
   "metadata": {},
   "outputs": [
    {
     "data": {
      "text/html": [
       "<div>\n",
       "<style scoped>\n",
       "    .dataframe tbody tr th:only-of-type {\n",
       "        vertical-align: middle;\n",
       "    }\n",
       "\n",
       "    .dataframe tbody tr th {\n",
       "        vertical-align: top;\n",
       "    }\n",
       "\n",
       "    .dataframe thead th {\n",
       "        text-align: right;\n",
       "    }\n",
       "</style>\n",
       "<table border=\"1\" class=\"dataframe\">\n",
       "  <thead>\n",
       "    <tr style=\"text-align: right;\">\n",
       "      <th></th>\n",
       "      <th>property_type</th>\n",
       "      <th>region</th>\n",
       "      <th>area_m2</th>\n",
       "      <th>price_usd</th>\n",
       "      <th>lat</th>\n",
       "      <th>lon</th>\n",
       "      <th>state</th>\n",
       "    </tr>\n",
       "  </thead>\n",
       "  <tbody>\n",
       "    <tr>\n",
       "      <th>0</th>\n",
       "      <td>apartment</td>\n",
       "      <td>Northeast</td>\n",
       "      <td>110</td>\n",
       "      <td>187230.85</td>\n",
       "      <td>-9.644305</td>\n",
       "      <td>-35.708814</td>\n",
       "      <td>Alagoas</td>\n",
       "    </tr>\n",
       "    <tr>\n",
       "      <th>1</th>\n",
       "      <td>apartment</td>\n",
       "      <td>Northeast</td>\n",
       "      <td>65</td>\n",
       "      <td>81133.37</td>\n",
       "      <td>-9.643093</td>\n",
       "      <td>-35.704840</td>\n",
       "      <td>Alagoas</td>\n",
       "    </tr>\n",
       "    <tr>\n",
       "      <th>2</th>\n",
       "      <td>house</td>\n",
       "      <td>Northeast</td>\n",
       "      <td>211</td>\n",
       "      <td>154465.45</td>\n",
       "      <td>-9.622703</td>\n",
       "      <td>-35.729795</td>\n",
       "      <td>Alagoas</td>\n",
       "    </tr>\n",
       "    <tr>\n",
       "      <th>3</th>\n",
       "      <td>apartment</td>\n",
       "      <td>Northeast</td>\n",
       "      <td>99</td>\n",
       "      <td>146013.20</td>\n",
       "      <td>-9.622837</td>\n",
       "      <td>-35.719556</td>\n",
       "      <td>Alagoas</td>\n",
       "    </tr>\n",
       "    <tr>\n",
       "      <th>4</th>\n",
       "      <td>apartment</td>\n",
       "      <td>Northeast</td>\n",
       "      <td>55</td>\n",
       "      <td>101416.71</td>\n",
       "      <td>-9.654955</td>\n",
       "      <td>-35.700227</td>\n",
       "      <td>Alagoas</td>\n",
       "    </tr>\n",
       "  </tbody>\n",
       "</table>\n",
       "</div>"
      ],
      "text/plain": [
       "  property_type     region  area_m2  price_usd       lat        lon    state\n",
       "0     apartment  Northeast      110  187230.85 -9.644305 -35.708814  Alagoas\n",
       "1     apartment  Northeast       65   81133.37 -9.643093 -35.704840  Alagoas\n",
       "2         house  Northeast      211  154465.45 -9.622703 -35.729795  Alagoas\n",
       "3     apartment  Northeast       99  146013.20 -9.622837 -35.719556  Alagoas\n",
       "4     apartment  Northeast       55  101416.71 -9.654955 -35.700227  Alagoas"
      ]
     },
     "execution_count": 16,
     "metadata": {},
     "output_type": "execute_result"
    }
   ],
   "source": [
    "# Drop the \"lat-lon\" and \"place_with_parent_names\" columns\n",
    "df1.drop(columns=['lat-lon','place_with_parent_names'],inplace=True)\n",
    "df1.head()"
   ]
  },
  {
   "cell_type": "markdown",
   "id": "bc75eedc",
   "metadata": {
    "papermill": {
     "duration": 0.044587,
     "end_time": "2022-04-19T06:24:11.019559",
     "exception": false,
     "start_time": "2022-04-19T06:24:10.974972",
     "status": "completed"
    },
    "tags": []
   },
   "source": [
    "2. Cleaning DataFrame 2"
   ]
  },
  {
   "cell_type": "code",
   "execution_count": 17,
   "id": "f1ba474e",
   "metadata": {
    "execution": {
     "iopub.execute_input": "2022-04-19T06:24:11.104230Z",
     "iopub.status.busy": "2022-04-19T06:24:11.103894Z",
     "iopub.status.idle": "2022-04-19T06:24:11.118450Z",
     "shell.execute_reply": "2022-04-19T06:24:11.117625Z"
    },
    "papermill": {
     "duration": 0.059573,
     "end_time": "2022-04-19T06:24:11.120416",
     "exception": false,
     "start_time": "2022-04-19T06:24:11.060843",
     "status": "completed"
    },
    "tags": []
   },
   "outputs": [
    {
     "data": {
      "text/html": [
       "<div>\n",
       "<style scoped>\n",
       "    .dataframe tbody tr th:only-of-type {\n",
       "        vertical-align: middle;\n",
       "    }\n",
       "\n",
       "    .dataframe tbody tr th {\n",
       "        vertical-align: top;\n",
       "    }\n",
       "\n",
       "    .dataframe thead th {\n",
       "        text-align: right;\n",
       "    }\n",
       "</style>\n",
       "<table border=\"1\" class=\"dataframe\">\n",
       "  <thead>\n",
       "    <tr style=\"text-align: right;\">\n",
       "      <th></th>\n",
       "      <th>property_type</th>\n",
       "      <th>state</th>\n",
       "      <th>region</th>\n",
       "      <th>lat</th>\n",
       "      <th>lon</th>\n",
       "      <th>area_m2</th>\n",
       "      <th>price_brl</th>\n",
       "    </tr>\n",
       "  </thead>\n",
       "  <tbody>\n",
       "    <tr>\n",
       "      <th>0</th>\n",
       "      <td>apartment</td>\n",
       "      <td>Pernambuco</td>\n",
       "      <td>Northeast</td>\n",
       "      <td>-8.134204</td>\n",
       "      <td>-34.906326</td>\n",
       "      <td>72.0</td>\n",
       "      <td>414222.98</td>\n",
       "    </tr>\n",
       "    <tr>\n",
       "      <th>1</th>\n",
       "      <td>apartment</td>\n",
       "      <td>Pernambuco</td>\n",
       "      <td>Northeast</td>\n",
       "      <td>-8.126664</td>\n",
       "      <td>-34.903924</td>\n",
       "      <td>136.0</td>\n",
       "      <td>848408.53</td>\n",
       "    </tr>\n",
       "    <tr>\n",
       "      <th>2</th>\n",
       "      <td>apartment</td>\n",
       "      <td>Pernambuco</td>\n",
       "      <td>Northeast</td>\n",
       "      <td>-8.125550</td>\n",
       "      <td>-34.907601</td>\n",
       "      <td>75.0</td>\n",
       "      <td>299438.28</td>\n",
       "    </tr>\n",
       "    <tr>\n",
       "      <th>3</th>\n",
       "      <td>apartment</td>\n",
       "      <td>Pernambuco</td>\n",
       "      <td>Northeast</td>\n",
       "      <td>-8.120249</td>\n",
       "      <td>-34.895920</td>\n",
       "      <td>187.0</td>\n",
       "      <td>848408.53</td>\n",
       "    </tr>\n",
       "    <tr>\n",
       "      <th>4</th>\n",
       "      <td>apartment</td>\n",
       "      <td>Pernambuco</td>\n",
       "      <td>Northeast</td>\n",
       "      <td>-8.142666</td>\n",
       "      <td>-34.906906</td>\n",
       "      <td>80.0</td>\n",
       "      <td>464129.36</td>\n",
       "    </tr>\n",
       "  </tbody>\n",
       "</table>\n",
       "</div>"
      ],
      "text/plain": [
       "  property_type       state     region       lat        lon  area_m2  \\\n",
       "0     apartment  Pernambuco  Northeast -8.134204 -34.906326     72.0   \n",
       "1     apartment  Pernambuco  Northeast -8.126664 -34.903924    136.0   \n",
       "2     apartment  Pernambuco  Northeast -8.125550 -34.907601     75.0   \n",
       "3     apartment  Pernambuco  Northeast -8.120249 -34.895920    187.0   \n",
       "4     apartment  Pernambuco  Northeast -8.142666 -34.906906     80.0   \n",
       "\n",
       "   price_brl  \n",
       "0  414222.98  \n",
       "1  848408.53  \n",
       "2  299438.28  \n",
       "3  848408.53  \n",
       "4  464129.36  "
      ]
     },
     "execution_count": 17,
     "metadata": {},
     "output_type": "execute_result"
    }
   ],
   "source": [
    "df2.head()\n"
   ]
  },
  {
   "cell_type": "code",
   "execution_count": 18,
   "id": "8f313495",
   "metadata": {
    "execution": {
     "iopub.execute_input": "2022-04-19T06:24:11.206479Z",
     "iopub.status.busy": "2022-04-19T06:24:11.205798Z",
     "iopub.status.idle": "2022-04-19T06:24:11.228622Z",
     "shell.execute_reply": "2022-04-19T06:24:11.227689Z"
    },
    "papermill": {
     "duration": 0.068384,
     "end_time": "2022-04-19T06:24:11.231000",
     "exception": false,
     "start_time": "2022-04-19T06:24:11.162616",
     "status": "completed"
    },
    "tags": []
   },
   "outputs": [
    {
     "name": "stdout",
     "output_type": "stream",
     "text": [
      "<class 'pandas.core.frame.DataFrame'>\n",
      "RangeIndex: 12833 entries, 0 to 12832\n",
      "Data columns (total 7 columns):\n",
      "property_type    12833 non-null object\n",
      "state            12833 non-null object\n",
      "region           12833 non-null object\n",
      "lat              12833 non-null float64\n",
      "lon              12833 non-null float64\n",
      "area_m2          11293 non-null float64\n",
      "price_brl        12833 non-null float64\n",
      "dtypes: float64(4), object(3)\n",
      "memory usage: 701.9+ KB\n"
     ]
    }
   ],
   "source": [
    "#inspecting the data\n",
    "df2.info()\n",
    "\n",
    "#drop all NaN rows\n",
    "df2.dropna(inplace= True)"
   ]
  },
  {
   "cell_type": "code",
   "execution_count": 19,
   "id": "4f8973a8",
   "metadata": {
    "execution": {
     "iopub.execute_input": "2022-04-19T06:24:11.317626Z",
     "iopub.status.busy": "2022-04-19T06:24:11.316726Z",
     "iopub.status.idle": "2022-04-19T06:24:11.323932Z",
     "shell.execute_reply": "2022-04-19T06:24:11.323228Z"
    },
    "papermill": {
     "duration": 0.052591,
     "end_time": "2022-04-19T06:24:11.325863",
     "exception": false,
     "start_time": "2022-04-19T06:24:11.273272",
     "status": "completed"
    },
    "tags": []
   },
   "outputs": [
    {
     "data": {
      "text/html": [
       "<div>\n",
       "<style scoped>\n",
       "    .dataframe tbody tr th:only-of-type {\n",
       "        vertical-align: middle;\n",
       "    }\n",
       "\n",
       "    .dataframe tbody tr th {\n",
       "        vertical-align: top;\n",
       "    }\n",
       "\n",
       "    .dataframe thead th {\n",
       "        text-align: right;\n",
       "    }\n",
       "</style>\n",
       "<table border=\"1\" class=\"dataframe\">\n",
       "  <thead>\n",
       "    <tr style=\"text-align: right;\">\n",
       "      <th></th>\n",
       "      <th>property_type</th>\n",
       "      <th>state</th>\n",
       "      <th>region</th>\n",
       "      <th>lat</th>\n",
       "      <th>lon</th>\n",
       "      <th>area_m2</th>\n",
       "      <th>price_usd</th>\n",
       "    </tr>\n",
       "  </thead>\n",
       "  <tbody>\n",
       "    <tr>\n",
       "      <th>0</th>\n",
       "      <td>apartment</td>\n",
       "      <td>Pernambuco</td>\n",
       "      <td>Northeast</td>\n",
       "      <td>-8.134204</td>\n",
       "      <td>-34.906326</td>\n",
       "      <td>72.0</td>\n",
       "      <td>129850.463950</td>\n",
       "    </tr>\n",
       "    <tr>\n",
       "      <th>1</th>\n",
       "      <td>apartment</td>\n",
       "      <td>Pernambuco</td>\n",
       "      <td>Northeast</td>\n",
       "      <td>-8.126664</td>\n",
       "      <td>-34.903924</td>\n",
       "      <td>136.0</td>\n",
       "      <td>265958.786834</td>\n",
       "    </tr>\n",
       "    <tr>\n",
       "      <th>2</th>\n",
       "      <td>apartment</td>\n",
       "      <td>Pernambuco</td>\n",
       "      <td>Northeast</td>\n",
       "      <td>-8.125550</td>\n",
       "      <td>-34.907601</td>\n",
       "      <td>75.0</td>\n",
       "      <td>93867.799373</td>\n",
       "    </tr>\n",
       "    <tr>\n",
       "      <th>3</th>\n",
       "      <td>apartment</td>\n",
       "      <td>Pernambuco</td>\n",
       "      <td>Northeast</td>\n",
       "      <td>-8.120249</td>\n",
       "      <td>-34.895920</td>\n",
       "      <td>187.0</td>\n",
       "      <td>265958.786834</td>\n",
       "    </tr>\n",
       "    <tr>\n",
       "      <th>4</th>\n",
       "      <td>apartment</td>\n",
       "      <td>Pernambuco</td>\n",
       "      <td>Northeast</td>\n",
       "      <td>-8.142666</td>\n",
       "      <td>-34.906906</td>\n",
       "      <td>80.0</td>\n",
       "      <td>145495.097179</td>\n",
       "    </tr>\n",
       "  </tbody>\n",
       "</table>\n",
       "</div>"
      ],
      "text/plain": [
       "  property_type       state     region       lat        lon  area_m2  \\\n",
       "0     apartment  Pernambuco  Northeast -8.134204 -34.906326     72.0   \n",
       "1     apartment  Pernambuco  Northeast -8.126664 -34.903924    136.0   \n",
       "2     apartment  Pernambuco  Northeast -8.125550 -34.907601     75.0   \n",
       "3     apartment  Pernambuco  Northeast -8.120249 -34.895920    187.0   \n",
       "4     apartment  Pernambuco  Northeast -8.142666 -34.906906     80.0   \n",
       "\n",
       "       price_usd  \n",
       "0  129850.463950  \n",
       "1  265958.786834  \n",
       "2   93867.799373  \n",
       "3  265958.786834  \n",
       "4  145495.097179  "
      ]
     },
     "execution_count": 19,
     "metadata": {},
     "output_type": "execute_result"
    }
   ],
   "source": [
    "#create new column \"price_used\" from price_mxm(Brazilian reals) and drop price_mxn column\n",
    "#data was collected in 2014, a dollar cost 19 pesos\n",
    "df2['price_usd'] = df2['price_brl'] / 3.19\n",
    "df2.drop(columns=['price_brl'],inplace=True)\n",
    "df2.head()"
   ]
  },
  {
   "cell_type": "code",
   "execution_count": 20,
   "id": "a80d9142",
   "metadata": {},
   "outputs": [],
   "source": [
    "# Drop rows that have NaN values.\n",
    "df2.dropna(inplace=True)"
   ]
  },
  {
   "cell_type": "code",
   "execution_count": 21,
   "id": "678497e0",
   "metadata": {
    "execution": {
     "iopub.execute_input": "2022-04-19T06:24:11.413555Z",
     "iopub.status.busy": "2022-04-19T06:24:11.412584Z",
     "iopub.status.idle": "2022-04-19T06:24:11.424837Z",
     "shell.execute_reply": "2022-04-19T06:24:11.424098Z"
    },
    "papermill": {
     "duration": 0.058076,
     "end_time": "2022-04-19T06:24:11.426976",
     "exception": false,
     "start_time": "2022-04-19T06:24:11.368900",
     "status": "completed"
    },
    "tags": []
   },
   "outputs": [
    {
     "name": "stdout",
     "output_type": "stream",
     "text": [
      "<class 'pandas.core.frame.DataFrame'>\n",
      "Int64Index: 11293 entries, 0 to 12832\n",
      "Data columns (total 7 columns):\n",
      "property_type    11293 non-null object\n",
      "state            11293 non-null object\n",
      "region           11293 non-null object\n",
      "lat              11293 non-null float64\n",
      "lon              11293 non-null float64\n",
      "area_m2          11293 non-null float64\n",
      "price_usd        11293 non-null float64\n",
      "dtypes: float64(4), object(3)\n",
      "memory usage: 705.8+ KB\n"
     ]
    }
   ],
   "source": [
    "df2.info()"
   ]
  },
  {
   "cell_type": "code",
   "execution_count": 22,
   "id": "32ad5c7c",
   "metadata": {
    "execution": {
     "iopub.execute_input": "2022-04-19T06:24:12.229527Z",
     "iopub.status.busy": "2022-04-19T06:24:12.228954Z",
     "iopub.status.idle": "2022-04-19T06:24:12.244198Z",
     "shell.execute_reply": "2022-04-19T06:24:12.243358Z"
    },
    "papermill": {
     "duration": 0.063579,
     "end_time": "2022-04-19T06:24:12.246467",
     "exception": false,
     "start_time": "2022-04-19T06:24:12.182888",
     "status": "completed"
    },
    "tags": []
   },
   "outputs": [
    {
     "name": "stdout",
     "output_type": "stream",
     "text": [
      "DF Shape:  (22844, 7)\n"
     ]
    },
    {
     "name": "stderr",
     "output_type": "stream",
     "text": [
      "c:\\Program Files (x86)\\Microsoft Visual Studio\\Shared\\Anaconda3_64\\lib\\site-packages\\ipykernel_launcher.py:4: FutureWarning: Sorting because non-concatenation axis is not aligned. A future version\n",
      "of pandas will change to not sort by default.\n",
      "\n",
      "To accept the future behavior, pass 'sort=True'.\n",
      "\n",
      "To retain the current behavior and silence the warning, pass sort=False\n",
      "\n",
      "  after removing the cwd from sys.path.\n"
     ]
    },
    {
     "data": {
      "text/html": [
       "<div>\n",
       "<style scoped>\n",
       "    .dataframe tbody tr th:only-of-type {\n",
       "        vertical-align: middle;\n",
       "    }\n",
       "\n",
       "    .dataframe tbody tr th {\n",
       "        vertical-align: top;\n",
       "    }\n",
       "\n",
       "    .dataframe thead th {\n",
       "        text-align: right;\n",
       "    }\n",
       "</style>\n",
       "<table border=\"1\" class=\"dataframe\">\n",
       "  <thead>\n",
       "    <tr style=\"text-align: right;\">\n",
       "      <th></th>\n",
       "      <th>area_m2</th>\n",
       "      <th>lat</th>\n",
       "      <th>lon</th>\n",
       "      <th>price_usd</th>\n",
       "      <th>property_type</th>\n",
       "      <th>region</th>\n",
       "      <th>state</th>\n",
       "    </tr>\n",
       "  </thead>\n",
       "  <tbody>\n",
       "    <tr>\n",
       "      <th>0</th>\n",
       "      <td>110.0</td>\n",
       "      <td>-9.644305</td>\n",
       "      <td>-35.708814</td>\n",
       "      <td>187230.85</td>\n",
       "      <td>apartment</td>\n",
       "      <td>Northeast</td>\n",
       "      <td>Alagoas</td>\n",
       "    </tr>\n",
       "    <tr>\n",
       "      <th>1</th>\n",
       "      <td>65.0</td>\n",
       "      <td>-9.643093</td>\n",
       "      <td>-35.704840</td>\n",
       "      <td>81133.37</td>\n",
       "      <td>apartment</td>\n",
       "      <td>Northeast</td>\n",
       "      <td>Alagoas</td>\n",
       "    </tr>\n",
       "    <tr>\n",
       "      <th>2</th>\n",
       "      <td>211.0</td>\n",
       "      <td>-9.622703</td>\n",
       "      <td>-35.729795</td>\n",
       "      <td>154465.45</td>\n",
       "      <td>house</td>\n",
       "      <td>Northeast</td>\n",
       "      <td>Alagoas</td>\n",
       "    </tr>\n",
       "    <tr>\n",
       "      <th>3</th>\n",
       "      <td>99.0</td>\n",
       "      <td>-9.622837</td>\n",
       "      <td>-35.719556</td>\n",
       "      <td>146013.20</td>\n",
       "      <td>apartment</td>\n",
       "      <td>Northeast</td>\n",
       "      <td>Alagoas</td>\n",
       "    </tr>\n",
       "    <tr>\n",
       "      <th>4</th>\n",
       "      <td>55.0</td>\n",
       "      <td>-9.654955</td>\n",
       "      <td>-35.700227</td>\n",
       "      <td>101416.71</td>\n",
       "      <td>apartment</td>\n",
       "      <td>Northeast</td>\n",
       "      <td>Alagoas</td>\n",
       "    </tr>\n",
       "  </tbody>\n",
       "</table>\n",
       "</div>"
      ],
      "text/plain": [
       "   area_m2       lat        lon  price_usd property_type     region    state\n",
       "0    110.0 -9.644305 -35.708814  187230.85     apartment  Northeast  Alagoas\n",
       "1     65.0 -9.643093 -35.704840   81133.37     apartment  Northeast  Alagoas\n",
       "2    211.0 -9.622703 -35.729795  154465.45         house  Northeast  Alagoas\n",
       "3     99.0 -9.622837 -35.719556  146013.20     apartment  Northeast  Alagoas\n",
       "4     55.0 -9.654955 -35.700227  101416.71     apartment  Northeast  Alagoas"
      ]
     },
     "execution_count": 22,
     "metadata": {},
     "output_type": "execute_result"
    }
   ],
   "source": [
    "#Now that i have cleaned Two dataframes,\n",
    "#it's time to combine them into a single DataFrame to analyze.\n",
    "\n",
    "df = pd.concat([df1,df2])\n",
    "print('DF Shape: ',df.shape)\n",
    "df.head()"
   ]
  },
  {
   "cell_type": "markdown",
   "id": "0f4f345f",
   "metadata": {},
   "source": [
    "#### It's time to start exploring your data. In this section, you'll use your new data visualization skills to learn more about the regional differences in the Brazilian real estate market."
   ]
  },
  {
   "cell_type": "code",
   "execution_count": 23,
   "id": "22d2ae22",
   "metadata": {},
   "outputs": [
    {
     "ename": "NameError",
     "evalue": "name 'px' is not defined",
     "output_type": "error",
     "traceback": [
      "\u001b[1;31m---------------------------------------------------------------------------\u001b[0m",
      "\u001b[1;31mNameError\u001b[0m                                 Traceback (most recent call last)",
      "\u001b[1;32m<ipython-input-23-a2a79900a53a>\u001b[0m in \u001b[0;36m<module>\u001b[1;34m()\u001b[0m\n\u001b[1;32m----> 1\u001b[1;33m fig = px.scatter_mapbox(\n\u001b[0m\u001b[0;32m      2\u001b[0m     \u001b[0mdf\u001b[0m\u001b[1;33m,\u001b[0m\u001b[1;33m\u001b[0m\u001b[0m\n\u001b[0;32m      3\u001b[0m     \u001b[0mlat\u001b[0m\u001b[1;33m=\u001b[0m\u001b[1;34m'lat'\u001b[0m\u001b[1;33m,\u001b[0m\u001b[1;33m\u001b[0m\u001b[0m\n\u001b[0;32m      4\u001b[0m     \u001b[0mlon\u001b[0m\u001b[1;33m=\u001b[0m\u001b[1;34m'lon'\u001b[0m\u001b[1;33m,\u001b[0m\u001b[1;33m\u001b[0m\u001b[0m\n\u001b[0;32m      5\u001b[0m     \u001b[0mcenter\u001b[0m\u001b[1;33m=\u001b[0m\u001b[1;33m{\u001b[0m\u001b[1;34m\"lat\"\u001b[0m\u001b[1;33m:\u001b[0m \u001b[1;33m-\u001b[0m\u001b[1;36m14.2\u001b[0m\u001b[1;33m,\u001b[0m \u001b[1;34m\"lon\"\u001b[0m\u001b[1;33m:\u001b[0m \u001b[1;33m-\u001b[0m\u001b[1;36m51.9\u001b[0m\u001b[1;33m}\u001b[0m\u001b[1;33m,\u001b[0m  \u001b[1;31m# Map will be centered on Brazil\u001b[0m\u001b[1;33m\u001b[0m\u001b[0m\n",
      "\u001b[1;31mNameError\u001b[0m: name 'px' is not defined"
     ]
    }
   ],
   "source": [
    "fig = px.scatter_mapbox(\n",
    "    df,\n",
    "    lat='lat',\n",
    "    lon='lon',\n",
    "    center={\"lat\": -14.2, \"lon\": -51.9},  # Map will be centered on Brazil\n",
    "    width=600,\n",
    "    height=600,\n",
    "    hover_data=[\"price_usd\"],  # Display price when hovering mouse over house\n",
    ")\n",
    "\n",
    "fig.update_layout(mapbox_style=\"open-street-map\")\n",
    "\n",
    "fig.show()"
   ]
  },
  {
   "cell_type": "code",
   "execution_count": 24,
   "id": "a88641a9",
   "metadata": {},
   "outputs": [
    {
     "data": {
      "text/html": [
       "<div>\n",
       "<style scoped>\n",
       "    .dataframe tbody tr th:only-of-type {\n",
       "        vertical-align: middle;\n",
       "    }\n",
       "\n",
       "    .dataframe tbody tr th {\n",
       "        vertical-align: top;\n",
       "    }\n",
       "\n",
       "    .dataframe thead th {\n",
       "        text-align: right;\n",
       "    }\n",
       "</style>\n",
       "<table border=\"1\" class=\"dataframe\">\n",
       "  <thead>\n",
       "    <tr style=\"text-align: right;\">\n",
       "      <th></th>\n",
       "      <th>area_m2</th>\n",
       "      <th>price_usd</th>\n",
       "    </tr>\n",
       "  </thead>\n",
       "  <tbody>\n",
       "    <tr>\n",
       "      <th>count</th>\n",
       "      <td>22844.000000</td>\n",
       "      <td>22844.000000</td>\n",
       "    </tr>\n",
       "    <tr>\n",
       "      <th>mean</th>\n",
       "      <td>115.020224</td>\n",
       "      <td>194987.315480</td>\n",
       "    </tr>\n",
       "    <tr>\n",
       "      <th>std</th>\n",
       "      <td>47.742932</td>\n",
       "      <td>103617.682978</td>\n",
       "    </tr>\n",
       "    <tr>\n",
       "      <th>min</th>\n",
       "      <td>53.000000</td>\n",
       "      <td>74892.340000</td>\n",
       "    </tr>\n",
       "    <tr>\n",
       "      <th>25%</th>\n",
       "      <td>76.000000</td>\n",
       "      <td>113898.770000</td>\n",
       "    </tr>\n",
       "    <tr>\n",
       "      <th>50%</th>\n",
       "      <td>103.000000</td>\n",
       "      <td>165697.555000</td>\n",
       "    </tr>\n",
       "    <tr>\n",
       "      <th>75%</th>\n",
       "      <td>142.000000</td>\n",
       "      <td>246900.880878</td>\n",
       "    </tr>\n",
       "    <tr>\n",
       "      <th>max</th>\n",
       "      <td>252.000000</td>\n",
       "      <td>525659.717868</td>\n",
       "    </tr>\n",
       "  </tbody>\n",
       "</table>\n",
       "</div>"
      ],
      "text/plain": [
       "            area_m2      price_usd\n",
       "count  22844.000000   22844.000000\n",
       "mean     115.020224  194987.315480\n",
       "std       47.742932  103617.682978\n",
       "min       53.000000   74892.340000\n",
       "25%       76.000000  113898.770000\n",
       "50%      103.000000  165697.555000\n",
       "75%      142.000000  246900.880878\n",
       "max      252.000000  525659.717868"
      ]
     },
     "execution_count": 24,
     "metadata": {},
     "output_type": "execute_result"
    }
   ],
   "source": [
    "# create a DataFrame summary_stats with the summary statistics for the \"area_m2\" and \"price_usd\" columns\n",
    "summary_stats = df[['area_m2','price_usd']].describe()\n",
    "summary_stats"
   ]
  },
  {
   "cell_type": "code",
   "execution_count": 26,
   "id": "0930ee1e",
   "metadata": {},
   "outputs": [
    {
     "data": {
      "text/plain": [
       "Text(0.5,1,'Distribution of Home Prices')"
      ]
     },
     "execution_count": 26,
     "metadata": {},
     "output_type": "execute_result"
    },
    {
     "data": {
      "image/png": "[encoded data removed]",
      "text/plain": [
       "<Figure size 432x288 with 1 Axes>"
      ]
     },
     "metadata": {},
     "output_type": "display_data"
    }
   ],
   "source": [
    "# histogram of \"price_usd\"\n",
    "\n",
    "# Build histogram\n",
    "plt.hist(df['price_usd'])\n",
    "\n",
    "# Label axes\n",
    "plt.xlabel('Price [USD]')\n",
    "plt.ylabel('Frequency')\n",
    "\n",
    "# Add title\n",
    "plt.title('Distribution of Home Prices')"
   ]
  },
  {
   "cell_type": "code",
   "execution_count": 27,
   "id": "7af778c6",
   "metadata": {},
   "outputs": [
    {
     "data": {
      "text/plain": [
       "Text(0.5,1,'Distribution of Home Sizes')"
      ]
     },
     "execution_count": 27,
     "metadata": {},
     "output_type": "execute_result"
    },
    {
     "data": {
      "image/png": "[encoded data removed]",
      "text/plain": [
       "<Figure size 432x288 with 1 Axes>"
      ]
     },
     "metadata": {},
     "output_type": "display_data"
    }
   ],
   "source": [
    "# horizontal boxplot of \"area_m2\"\n",
    "# Build box plot\n",
    "plt.boxplot(df[\"area_m2\"])\n",
    "\n",
    "# Label axes\n",
    "plt.xlabel('Area [sq meters]')\n",
    "\n",
    "# Add title\n",
    "plt.title('Distribution of Home Sizes')"
   ]
  },
  {
   "cell_type": "code",
   "execution_count": 28,
   "id": "08041515",
   "metadata": {},
   "outputs": [
    {
     "data": {
      "text/plain": [
       "region\n",
       "Central-West    178596.283663\n",
       "North           181308.958207\n",
       "Northeast       185422.985441\n",
       "South           189012.345265\n",
       "Southeast       208996.762778\n",
       "Name: price_usd, dtype: float64"
      ]
     },
     "execution_count": 28,
     "metadata": {},
     "output_type": "execute_result"
    }
   ],
   "source": [
    "# a Series named mean_price_by_region that shows the mean home price in each region in Brazil, sorted from smallest to largest.\n",
    "mean_price_by_region = df.groupby('region')['price_usd'].mean()\n",
    "mean_price_by_region"
   ]
  },
  {
   "cell_type": "code",
   "execution_count": 29,
   "id": "70ae089d",
   "metadata": {},
   "outputs": [
    {
     "ename": "AttributeError",
     "evalue": "Unknown property xlabel",
     "output_type": "error",
     "traceback": [
      "\u001b[1;31m---------------------------------------------------------------------------\u001b[0m",
      "\u001b[1;31mAttributeError\u001b[0m                            Traceback (most recent call last)",
      "\u001b[1;32m<ipython-input-29-f2ad701def41>\u001b[0m in \u001b[0;36m<module>\u001b[1;34m()\u001b[0m\n\u001b[0;32m      4\u001b[0m                           \u001b[0mxlabel\u001b[0m \u001b[1;33m=\u001b[0m \u001b[1;34m'Region'\u001b[0m\u001b[1;33m,\u001b[0m\u001b[1;33m\u001b[0m\u001b[0m\n\u001b[0;32m      5\u001b[0m                           \u001b[0mylabel\u001b[0m \u001b[1;33m=\u001b[0m \u001b[1;34m'Mean Price [USD]'\u001b[0m\u001b[1;33m,\u001b[0m\u001b[1;33m\u001b[0m\u001b[0m\n\u001b[1;32m----> 6\u001b[1;33m                           \u001b[0mtitle\u001b[0m \u001b[1;33m=\u001b[0m \u001b[1;34m'Mean Home Price by Region'\u001b[0m\u001b[1;33m\u001b[0m\u001b[0m\n\u001b[0m\u001b[0;32m      7\u001b[0m                          )\n",
      "\u001b[1;32mc:\\Program Files (x86)\\Microsoft Visual Studio\\Shared\\Anaconda3_64\\lib\\site-packages\\pandas\\plotting\\_core.py\u001b[0m in \u001b[0;36m__call__\u001b[1;34m(self, kind, ax, figsize, use_index, title, grid, legend, style, logx, logy, loglog, xticks, yticks, xlim, ylim, rot, fontsize, colormap, table, yerr, xerr, label, secondary_y, **kwds)\u001b[0m\n\u001b[0;32m   2739\u001b[0m                            \u001b[0mcolormap\u001b[0m\u001b[1;33m=\u001b[0m\u001b[0mcolormap\u001b[0m\u001b[1;33m,\u001b[0m \u001b[0mtable\u001b[0m\u001b[1;33m=\u001b[0m\u001b[0mtable\u001b[0m\u001b[1;33m,\u001b[0m \u001b[0myerr\u001b[0m\u001b[1;33m=\u001b[0m\u001b[0myerr\u001b[0m\u001b[1;33m,\u001b[0m\u001b[1;33m\u001b[0m\u001b[0m\n\u001b[0;32m   2740\u001b[0m                            \u001b[0mxerr\u001b[0m\u001b[1;33m=\u001b[0m\u001b[0mxerr\u001b[0m\u001b[1;33m,\u001b[0m \u001b[0mlabel\u001b[0m\u001b[1;33m=\u001b[0m\u001b[0mlabel\u001b[0m\u001b[1;33m,\u001b[0m \u001b[0msecondary_y\u001b[0m\u001b[1;33m=\u001b[0m\u001b[0msecondary_y\u001b[0m\u001b[1;33m,\u001b[0m\u001b[1;33m\u001b[0m\u001b[0m\n\u001b[1;32m-> 2741\u001b[1;33m                            **kwds)\n\u001b[0m\u001b[0;32m   2742\u001b[0m     \u001b[0m__call__\u001b[0m\u001b[1;33m.\u001b[0m\u001b[0m__doc__\u001b[0m \u001b[1;33m=\u001b[0m \u001b[0mplot_series\u001b[0m\u001b[1;33m.\u001b[0m\u001b[0m__doc__\u001b[0m\u001b[1;33m\u001b[0m\u001b[0m\n\u001b[0;32m   2743\u001b[0m \u001b[1;33m\u001b[0m\u001b[0m\n",
      "\u001b[1;32mc:\\Program Files (x86)\\Microsoft Visual Studio\\Shared\\Anaconda3_64\\lib\\site-packages\\pandas\\plotting\\_core.py\u001b[0m in \u001b[0;36mplot_series\u001b[1;34m(data, kind, ax, figsize, use_index, title, grid, legend, style, logx, logy, loglog, xticks, yticks, xlim, ylim, rot, fontsize, colormap, table, yerr, xerr, label, secondary_y, **kwds)\u001b[0m\n\u001b[0;32m   2000\u001b[0m                  \u001b[0myerr\u001b[0m\u001b[1;33m=\u001b[0m\u001b[0myerr\u001b[0m\u001b[1;33m,\u001b[0m \u001b[0mxerr\u001b[0m\u001b[1;33m=\u001b[0m\u001b[0mxerr\u001b[0m\u001b[1;33m,\u001b[0m\u001b[1;33m\u001b[0m\u001b[0m\n\u001b[0;32m   2001\u001b[0m                  \u001b[0mlabel\u001b[0m\u001b[1;33m=\u001b[0m\u001b[0mlabel\u001b[0m\u001b[1;33m,\u001b[0m \u001b[0msecondary_y\u001b[0m\u001b[1;33m=\u001b[0m\u001b[0msecondary_y\u001b[0m\u001b[1;33m,\u001b[0m\u001b[1;33m\u001b[0m\u001b[0m\n\u001b[1;32m-> 2002\u001b[1;33m                  **kwds)\n\u001b[0m\u001b[0;32m   2003\u001b[0m \u001b[1;33m\u001b[0m\u001b[0m\n\u001b[0;32m   2004\u001b[0m \u001b[1;33m\u001b[0m\u001b[0m\n",
      "\u001b[1;32mc:\\Program Files (x86)\\Microsoft Visual Studio\\Shared\\Anaconda3_64\\lib\\site-packages\\pandas\\plotting\\_core.py\u001b[0m in \u001b[0;36m_plot\u001b[1;34m(data, x, y, subplots, ax, kind, **kwds)\u001b[0m\n\u001b[0;32m   1802\u001b[0m         \u001b[0mplot_obj\u001b[0m \u001b[1;33m=\u001b[0m \u001b[0mklass\u001b[0m\u001b[1;33m(\u001b[0m\u001b[0mdata\u001b[0m\u001b[1;33m,\u001b[0m \u001b[0msubplots\u001b[0m\u001b[1;33m=\u001b[0m\u001b[0msubplots\u001b[0m\u001b[1;33m,\u001b[0m \u001b[0max\u001b[0m\u001b[1;33m=\u001b[0m\u001b[0max\u001b[0m\u001b[1;33m,\u001b[0m \u001b[0mkind\u001b[0m\u001b[1;33m=\u001b[0m\u001b[0mkind\u001b[0m\u001b[1;33m,\u001b[0m \u001b[1;33m**\u001b[0m\u001b[0mkwds\u001b[0m\u001b[1;33m)\u001b[0m\u001b[1;33m\u001b[0m\u001b[0m\n\u001b[0;32m   1803\u001b[0m \u001b[1;33m\u001b[0m\u001b[0m\n\u001b[1;32m-> 1804\u001b[1;33m     \u001b[0mplot_obj\u001b[0m\u001b[1;33m.\u001b[0m\u001b[0mgenerate\u001b[0m\u001b[1;33m(\u001b[0m\u001b[1;33m)\u001b[0m\u001b[1;33m\u001b[0m\u001b[0m\n\u001b[0m\u001b[0;32m   1805\u001b[0m     \u001b[0mplot_obj\u001b[0m\u001b[1;33m.\u001b[0m\u001b[0mdraw\u001b[0m\u001b[1;33m(\u001b[0m\u001b[1;33m)\u001b[0m\u001b[1;33m\u001b[0m\u001b[0m\n\u001b[0;32m   1806\u001b[0m     \u001b[1;32mreturn\u001b[0m \u001b[0mplot_obj\u001b[0m\u001b[1;33m.\u001b[0m\u001b[0mresult\u001b[0m\u001b[1;33m\u001b[0m\u001b[0m\n",
      "\u001b[1;32mc:\\Program Files (x86)\\Microsoft Visual Studio\\Shared\\Anaconda3_64\\lib\\site-packages\\pandas\\plotting\\_core.py\u001b[0m in \u001b[0;36mgenerate\u001b[1;34m(self)\u001b[0m\n\u001b[0;32m    258\u001b[0m         \u001b[0mself\u001b[0m\u001b[1;33m.\u001b[0m\u001b[0m_compute_plot_data\u001b[0m\u001b[1;33m(\u001b[0m\u001b[1;33m)\u001b[0m\u001b[1;33m\u001b[0m\u001b[0m\n\u001b[0;32m    259\u001b[0m         \u001b[0mself\u001b[0m\u001b[1;33m.\u001b[0m\u001b[0m_setup_subplots\u001b[0m\u001b[1;33m(\u001b[0m\u001b[1;33m)\u001b[0m\u001b[1;33m\u001b[0m\u001b[0m\n\u001b[1;32m--> 260\u001b[1;33m         \u001b[0mself\u001b[0m\u001b[1;33m.\u001b[0m\u001b[0m_make_plot\u001b[0m\u001b[1;33m(\u001b[0m\u001b[1;33m)\u001b[0m\u001b[1;33m\u001b[0m\u001b[0m\n\u001b[0m\u001b[0;32m    261\u001b[0m         \u001b[0mself\u001b[0m\u001b[1;33m.\u001b[0m\u001b[0m_add_table\u001b[0m\u001b[1;33m(\u001b[0m\u001b[1;33m)\u001b[0m\u001b[1;33m\u001b[0m\u001b[0m\n\u001b[0;32m    262\u001b[0m         \u001b[0mself\u001b[0m\u001b[1;33m.\u001b[0m\u001b[0m_make_legend\u001b[0m\u001b[1;33m(\u001b[0m\u001b[1;33m)\u001b[0m\u001b[1;33m\u001b[0m\u001b[0m\n",
      "\u001b[1;32mc:\\Program Files (x86)\\Microsoft Visual Studio\\Shared\\Anaconda3_64\\lib\\site-packages\\pandas\\plotting\\_core.py\u001b[0m in \u001b[0;36m_make_plot\u001b[1;34m(self)\u001b[0m\n\u001b[0;32m   1263\u001b[0m                 rect = self._plot(ax, self.ax_pos + (i + 0.5) * w, y, w,\n\u001b[0;32m   1264\u001b[0m                                   \u001b[0mstart\u001b[0m\u001b[1;33m=\u001b[0m\u001b[0mstart\u001b[0m\u001b[1;33m,\u001b[0m \u001b[0mlabel\u001b[0m\u001b[1;33m=\u001b[0m\u001b[0mlabel\u001b[0m\u001b[1;33m,\u001b[0m\u001b[1;33m\u001b[0m\u001b[0m\n\u001b[1;32m-> 1265\u001b[1;33m                                   log=self.log, **kwds)\n\u001b[0m\u001b[0;32m   1266\u001b[0m             \u001b[0mself\u001b[0m\u001b[1;33m.\u001b[0m\u001b[0m_add_legend_handle\u001b[0m\u001b[1;33m(\u001b[0m\u001b[0mrect\u001b[0m\u001b[1;33m,\u001b[0m \u001b[0mlabel\u001b[0m\u001b[1;33m,\u001b[0m \u001b[0mindex\u001b[0m\u001b[1;33m=\u001b[0m\u001b[0mi\u001b[0m\u001b[1;33m)\u001b[0m\u001b[1;33m\u001b[0m\u001b[0m\n\u001b[0;32m   1267\u001b[0m \u001b[1;33m\u001b[0m\u001b[0m\n",
      "\u001b[1;32mc:\\Program Files (x86)\\Microsoft Visual Studio\\Shared\\Anaconda3_64\\lib\\site-packages\\pandas\\plotting\\_core.py\u001b[0m in \u001b[0;36m_plot\u001b[1;34m(cls, ax, x, y, w, start, log, **kwds)\u001b[0m\n\u001b[0;32m   1207\u001b[0m     \u001b[1;33m@\u001b[0m\u001b[0mclassmethod\u001b[0m\u001b[1;33m\u001b[0m\u001b[0m\n\u001b[0;32m   1208\u001b[0m     \u001b[1;32mdef\u001b[0m \u001b[0m_plot\u001b[0m\u001b[1;33m(\u001b[0m\u001b[0mcls\u001b[0m\u001b[1;33m,\u001b[0m \u001b[0max\u001b[0m\u001b[1;33m,\u001b[0m \u001b[0mx\u001b[0m\u001b[1;33m,\u001b[0m \u001b[0my\u001b[0m\u001b[1;33m,\u001b[0m \u001b[0mw\u001b[0m\u001b[1;33m,\u001b[0m \u001b[0mstart\u001b[0m\u001b[1;33m=\u001b[0m\u001b[1;36m0\u001b[0m\u001b[1;33m,\u001b[0m \u001b[0mlog\u001b[0m\u001b[1;33m=\u001b[0m\u001b[1;32mFalse\u001b[0m\u001b[1;33m,\u001b[0m \u001b[1;33m**\u001b[0m\u001b[0mkwds\u001b[0m\u001b[1;33m)\u001b[0m\u001b[1;33m:\u001b[0m\u001b[1;33m\u001b[0m\u001b[0m\n\u001b[1;32m-> 1209\u001b[1;33m         \u001b[1;32mreturn\u001b[0m \u001b[0max\u001b[0m\u001b[1;33m.\u001b[0m\u001b[0mbar\u001b[0m\u001b[1;33m(\u001b[0m\u001b[0mx\u001b[0m\u001b[1;33m,\u001b[0m \u001b[0my\u001b[0m\u001b[1;33m,\u001b[0m \u001b[0mw\u001b[0m\u001b[1;33m,\u001b[0m \u001b[0mbottom\u001b[0m\u001b[1;33m=\u001b[0m\u001b[0mstart\u001b[0m\u001b[1;33m,\u001b[0m \u001b[0mlog\u001b[0m\u001b[1;33m=\u001b[0m\u001b[0mlog\u001b[0m\u001b[1;33m,\u001b[0m \u001b[1;33m**\u001b[0m\u001b[0mkwds\u001b[0m\u001b[1;33m)\u001b[0m\u001b[1;33m\u001b[0m\u001b[0m\n\u001b[0m\u001b[0;32m   1210\u001b[0m \u001b[1;33m\u001b[0m\u001b[0m\n\u001b[0;32m   1211\u001b[0m     \u001b[1;33m@\u001b[0m\u001b[0mproperty\u001b[0m\u001b[1;33m\u001b[0m\u001b[0m\n",
      "\u001b[1;32mc:\\Program Files (x86)\\Microsoft Visual Studio\\Shared\\Anaconda3_64\\lib\\site-packages\\matplotlib\\__init__.py\u001b[0m in \u001b[0;36minner\u001b[1;34m(ax, *args, **kwargs)\u001b[0m\n\u001b[0;32m   1853\u001b[0m                         \u001b[1;34m\"the Matplotlib list!)\"\u001b[0m \u001b[1;33m%\u001b[0m \u001b[1;33m(\u001b[0m\u001b[0mlabel_namer\u001b[0m\u001b[1;33m,\u001b[0m \u001b[0mfunc\u001b[0m\u001b[1;33m.\u001b[0m\u001b[0m__name__\u001b[0m\u001b[1;33m)\u001b[0m\u001b[1;33m,\u001b[0m\u001b[1;33m\u001b[0m\u001b[0m\n\u001b[0;32m   1854\u001b[0m                         RuntimeWarning, stacklevel=2)\n\u001b[1;32m-> 1855\u001b[1;33m             \u001b[1;32mreturn\u001b[0m \u001b[0mfunc\u001b[0m\u001b[1;33m(\u001b[0m\u001b[0max\u001b[0m\u001b[1;33m,\u001b[0m \u001b[1;33m*\u001b[0m\u001b[0margs\u001b[0m\u001b[1;33m,\u001b[0m \u001b[1;33m**\u001b[0m\u001b[0mkwargs\u001b[0m\u001b[1;33m)\u001b[0m\u001b[1;33m\u001b[0m\u001b[0m\n\u001b[0m\u001b[0;32m   1856\u001b[0m \u001b[1;33m\u001b[0m\u001b[0m\n\u001b[0;32m   1857\u001b[0m         inner.__doc__ = _add_data_doc(inner.__doc__,\n",
      "\u001b[1;32mc:\\Program Files (x86)\\Microsoft Visual Studio\\Shared\\Anaconda3_64\\lib\\site-packages\\matplotlib\\axes\\_axes.py\u001b[0m in \u001b[0;36mbar\u001b[1;34m(self, *args, **kwargs)\u001b[0m\n\u001b[0;32m   2278\u001b[0m                 \u001b[0mlabel\u001b[0m\u001b[1;33m=\u001b[0m\u001b[1;34m'_nolegend_'\u001b[0m\u001b[1;33m,\u001b[0m\u001b[1;33m\u001b[0m\u001b[0m\n\u001b[0;32m   2279\u001b[0m                 )\n\u001b[1;32m-> 2280\u001b[1;33m             \u001b[0mr\u001b[0m\u001b[1;33m.\u001b[0m\u001b[0mupdate\u001b[0m\u001b[1;33m(\u001b[0m\u001b[0mkwargs\u001b[0m\u001b[1;33m)\u001b[0m\u001b[1;33m\u001b[0m\u001b[0m\n\u001b[0m\u001b[0;32m   2281\u001b[0m             \u001b[0mr\u001b[0m\u001b[1;33m.\u001b[0m\u001b[0mget_path\u001b[0m\u001b[1;33m(\u001b[0m\u001b[1;33m)\u001b[0m\u001b[1;33m.\u001b[0m\u001b[0m_interpolation_steps\u001b[0m \u001b[1;33m=\u001b[0m \u001b[1;36m100\u001b[0m\u001b[1;33m\u001b[0m\u001b[0m\n\u001b[0;32m   2282\u001b[0m             \u001b[1;32mif\u001b[0m \u001b[0morientation\u001b[0m \u001b[1;33m==\u001b[0m \u001b[1;34m'vertical'\u001b[0m\u001b[1;33m:\u001b[0m\u001b[1;33m\u001b[0m\u001b[0m\n",
      "\u001b[1;32mc:\\Program Files (x86)\\Microsoft Visual Studio\\Shared\\Anaconda3_64\\lib\\site-packages\\matplotlib\\artist.py\u001b[0m in \u001b[0;36mupdate\u001b[1;34m(self, props)\u001b[0m\n\u001b[0;32m    886\u001b[0m         \u001b[1;32mtry\u001b[0m\u001b[1;33m:\u001b[0m\u001b[1;33m\u001b[0m\u001b[0m\n\u001b[0;32m    887\u001b[0m             ret = [_update_property(self, k, v)\n\u001b[1;32m--> 888\u001b[1;33m                    for k, v in props.items()]\n\u001b[0m\u001b[0;32m    889\u001b[0m         \u001b[1;32mfinally\u001b[0m\u001b[1;33m:\u001b[0m\u001b[1;33m\u001b[0m\u001b[0m\n\u001b[0;32m    890\u001b[0m             \u001b[0mself\u001b[0m\u001b[1;33m.\u001b[0m\u001b[0meventson\u001b[0m \u001b[1;33m=\u001b[0m \u001b[0mstore\u001b[0m\u001b[1;33m\u001b[0m\u001b[0m\n",
      "\u001b[1;32mc:\\Program Files (x86)\\Microsoft Visual Studio\\Shared\\Anaconda3_64\\lib\\site-packages\\matplotlib\\artist.py\u001b[0m in \u001b[0;36m<listcomp>\u001b[1;34m(.0)\u001b[0m\n\u001b[0;32m    886\u001b[0m         \u001b[1;32mtry\u001b[0m\u001b[1;33m:\u001b[0m\u001b[1;33m\u001b[0m\u001b[0m\n\u001b[0;32m    887\u001b[0m             ret = [_update_property(self, k, v)\n\u001b[1;32m--> 888\u001b[1;33m                    for k, v in props.items()]\n\u001b[0m\u001b[0;32m    889\u001b[0m         \u001b[1;32mfinally\u001b[0m\u001b[1;33m:\u001b[0m\u001b[1;33m\u001b[0m\u001b[0m\n\u001b[0;32m    890\u001b[0m             \u001b[0mself\u001b[0m\u001b[1;33m.\u001b[0m\u001b[0meventson\u001b[0m \u001b[1;33m=\u001b[0m \u001b[0mstore\u001b[0m\u001b[1;33m\u001b[0m\u001b[0m\n",
      "\u001b[1;32mc:\\Program Files (x86)\\Microsoft Visual Studio\\Shared\\Anaconda3_64\\lib\\site-packages\\matplotlib\\artist.py\u001b[0m in \u001b[0;36m_update_property\u001b[1;34m(self, k, v)\u001b[0m\n\u001b[0;32m    879\u001b[0m                 \u001b[0mfunc\u001b[0m \u001b[1;33m=\u001b[0m \u001b[0mgetattr\u001b[0m\u001b[1;33m(\u001b[0m\u001b[0mself\u001b[0m\u001b[1;33m,\u001b[0m \u001b[1;34m'set_'\u001b[0m \u001b[1;33m+\u001b[0m \u001b[0mk\u001b[0m\u001b[1;33m,\u001b[0m \u001b[1;32mNone\u001b[0m\u001b[1;33m)\u001b[0m\u001b[1;33m\u001b[0m\u001b[0m\n\u001b[0;32m    880\u001b[0m                 \u001b[1;32mif\u001b[0m \u001b[1;32mnot\u001b[0m \u001b[0mcallable\u001b[0m\u001b[1;33m(\u001b[0m\u001b[0mfunc\u001b[0m\u001b[1;33m)\u001b[0m\u001b[1;33m:\u001b[0m\u001b[1;33m\u001b[0m\u001b[0m\n\u001b[1;32m--> 881\u001b[1;33m                     \u001b[1;32mraise\u001b[0m \u001b[0mAttributeError\u001b[0m\u001b[1;33m(\u001b[0m\u001b[1;34m'Unknown property %s'\u001b[0m \u001b[1;33m%\u001b[0m \u001b[0mk\u001b[0m\u001b[1;33m)\u001b[0m\u001b[1;33m\u001b[0m\u001b[0m\n\u001b[0m\u001b[0;32m    882\u001b[0m                 \u001b[1;32mreturn\u001b[0m \u001b[0mfunc\u001b[0m\u001b[1;33m(\u001b[0m\u001b[0mv\u001b[0m\u001b[1;33m)\u001b[0m\u001b[1;33m\u001b[0m\u001b[0m\n\u001b[0;32m    883\u001b[0m \u001b[1;33m\u001b[0m\u001b[0m\n",
      "\u001b[1;31mAttributeError\u001b[0m: Unknown property xlabel"
     ]
    },
    {
     "data": {
      "image/png": "[encoded data removed]",
      "text/plain": [
       "<Figure size 432x288 with 1 Axes>"
      ]
     },
     "metadata": {},
     "output_type": "display_data"
    }
   ],
   "source": [
    "# create a bar chart\n",
    "# Build bar chart, label axes, add title\n",
    "mean_price_by_region.plot(kind='bar',\n",
    "                          xlabel = 'Region',\n",
    "                          ylabel = 'Mean Price [USD]',\n",
    "                          title = 'Mean Home Price by Region'\n",
    "                         )"
   ]
  },
  {
   "cell_type": "code",
   "execution_count": 30,
   "id": "eee86cfc",
   "metadata": {},
   "outputs": [
    {
     "data": {
      "text/html": [
       "<div>\n",
       "<style scoped>\n",
       "    .dataframe tbody tr th:only-of-type {\n",
       "        vertical-align: middle;\n",
       "    }\n",
       "\n",
       "    .dataframe tbody tr th {\n",
       "        vertical-align: top;\n",
       "    }\n",
       "\n",
       "    .dataframe thead th {\n",
       "        text-align: right;\n",
       "    }\n",
       "</style>\n",
       "<table border=\"1\" class=\"dataframe\">\n",
       "  <thead>\n",
       "    <tr style=\"text-align: right;\">\n",
       "      <th></th>\n",
       "      <th>area_m2</th>\n",
       "      <th>lat</th>\n",
       "      <th>lon</th>\n",
       "      <th>price_usd</th>\n",
       "      <th>property_type</th>\n",
       "      <th>region</th>\n",
       "      <th>state</th>\n",
       "    </tr>\n",
       "  </thead>\n",
       "  <tbody>\n",
       "    <tr>\n",
       "      <th>9304</th>\n",
       "      <td>127.0</td>\n",
       "      <td>-25.455704</td>\n",
       "      <td>-49.292918</td>\n",
       "      <td>296448.85</td>\n",
       "      <td>apartment</td>\n",
       "      <td>South</td>\n",
       "      <td>Paraná</td>\n",
       "    </tr>\n",
       "    <tr>\n",
       "      <th>9305</th>\n",
       "      <td>104.0</td>\n",
       "      <td>-25.455704</td>\n",
       "      <td>-49.292918</td>\n",
       "      <td>219996.25</td>\n",
       "      <td>apartment</td>\n",
       "      <td>South</td>\n",
       "      <td>Paraná</td>\n",
       "    </tr>\n",
       "    <tr>\n",
       "      <th>9306</th>\n",
       "      <td>100.0</td>\n",
       "      <td>-25.460236</td>\n",
       "      <td>-49.293812</td>\n",
       "      <td>194210.50</td>\n",
       "      <td>apartment</td>\n",
       "      <td>South</td>\n",
       "      <td>Paraná</td>\n",
       "    </tr>\n",
       "    <tr>\n",
       "      <th>9307</th>\n",
       "      <td>77.0</td>\n",
       "      <td>-25.460236</td>\n",
       "      <td>-49.293812</td>\n",
       "      <td>149252.94</td>\n",
       "      <td>apartment</td>\n",
       "      <td>South</td>\n",
       "      <td>Paraná</td>\n",
       "    </tr>\n",
       "    <tr>\n",
       "      <th>9308</th>\n",
       "      <td>73.0</td>\n",
       "      <td>-25.460236</td>\n",
       "      <td>-49.293812</td>\n",
       "      <td>144167.75</td>\n",
       "      <td>apartment</td>\n",
       "      <td>South</td>\n",
       "      <td>Paraná</td>\n",
       "    </tr>\n",
       "  </tbody>\n",
       "</table>\n",
       "</div>"
      ],
      "text/plain": [
       "      area_m2        lat        lon  price_usd property_type region   state\n",
       "9304    127.0 -25.455704 -49.292918  296448.85     apartment  South  Paraná\n",
       "9305    104.0 -25.455704 -49.292918  219996.25     apartment  South  Paraná\n",
       "9306    100.0 -25.460236 -49.293812  194210.50     apartment  South  Paraná\n",
       "9307     77.0 -25.460236 -49.293812  149252.94     apartment  South  Paraná\n",
       "9308     73.0 -25.460236 -49.293812  144167.75     apartment  South  Paraná"
      ]
     },
     "execution_count": 30,
     "metadata": {},
     "output_type": "execute_result"
    }
   ],
   "source": [
    "# DataFrame df_south that contains all the homes from df that are in the \"South\" region.\n",
    "df_south = df[df['region']=='South']\n",
    "df_south.head()"
   ]
  },
  {
   "cell_type": "code",
   "execution_count": 31,
   "id": "c8bf2b87",
   "metadata": {},
   "outputs": [
    {
     "data": {
      "text/plain": [
       "Rio Grande do Sul    2643\n",
       "Santa Catarina       2634\n",
       "Paraná               2544\n",
       "Name: state, dtype: int64"
      ]
     },
     "execution_count": 31,
     "metadata": {},
     "output_type": "execute_result"
    }
   ],
   "source": [
    "# Use the value_counts method to create a Series homes_by_state that contains the number of properties in each state in df_south\n",
    "homes_by_state = df_south['state'].value_counts()\n",
    "homes_by_state"
   ]
  },
  {
   "cell_type": "code",
   "execution_count": 32,
   "id": "f080826b",
   "metadata": {},
   "outputs": [
    {
     "data": {
      "text/plain": [
       "Text(0.5,1,'Rio Grande do Sul: Price vs. Area')"
      ]
     },
     "execution_count": 32,
     "metadata": {},
     "output_type": "execute_result"
    },
    {
     "data": {
      "image/png": "[encoded data removed]",
      "text/plain": [
       "<Figure size 432x288 with 1 Axes>"
      ]
     },
     "metadata": {},
     "output_type": "display_data"
    }
   ],
   "source": [
    "# scatter plot showing price vs. area for the state in df_south that has the largest number of properties.\n",
    "top_state = homes_by_state.idxmax()  # State with the largest number of properties\n",
    "\n",
    "# Filter the dataframe for the top state\n",
    "df_top_state = df_south[df_south['state'] == top_state]\n",
    "\n",
    "plt.scatter(df_top_state['area_m2'], df_top_state['price_usd'])\n",
    "\n",
    "# Set labels and title\n",
    "plt.xlabel(\"Area [sq meters]\")\n",
    "plt.ylabel(\"Price [USD]\")\n",
    "plt.title(f\"{top_state}: Price vs. Area\")"
   ]
  },
  {
   "cell_type": "code",
   "execution_count": 33,
   "id": "dbe09f56",
   "metadata": {},
   "outputs": [
    {
     "data": {
      "text/plain": [
       "{'Paraná': 0.5436659935502659,\n",
       " 'Santa Catarina': 0.5068121776366781,\n",
       " 'Rio Grande do Sul': 0.5773267433717684}"
      ]
     },
     "execution_count": 33,
     "metadata": {},
     "output_type": "execute_result"
    }
   ],
   "source": [
    "# Create a dictionary south_states_corr,\n",
    "# where the keys are the names of the three states in the \"South\" region of Brazil,\n",
    "# and their associated values are the correlation coefficient between \"area_m2\" and \"price_usd\" in that state\n",
    "south_states = ['Paraná', 'Santa Catarina', 'Rio Grande do Sul']\n",
    "\n",
    "# Initialize an empty dictionary to store the correlations\n",
    "south_states_corr = {}\n",
    "\n",
    "# Loop over each state and calculate the correlation between area_m2 and price_usd\n",
    "for state in south_states:\n",
    "    df_state = df_south[df_south['state'] == state]\n",
    "    correlation = df_state['area_m2'].corr(df_state['price_usd'])\n",
    "    south_states_corr[state] = correlation\n",
    "\n",
    "south_states_corr"
   ]
  }
 ],
 "metadata": {
  "kernelspec": {
   "display_name": "base",
   "language": "python",
   "name": "python3"
  },
  "language_info": {
   "codemirror_mode": {
    "name": "ipython",
    "version": 3
   },
   "file_extension": ".py",
   "mimetype": "text/x-python",
   "name": "python",
   "nbconvert_exporter": "python",
   "pygments_lexer": "ipython3",
   "version": "3.6.5"
  },
  "papermill": {
   "default_parameters": {},
   "duration": 20.516369,
   "end_time": "2022-04-19T06:24:18.963302",
   "environment_variables": {},
   "exception": null,
   "input_path": "__notebook__.ipynb",
   "output_path": "__notebook__.ipynb",
   "parameters": {},
   "start_time": "2022-04-19T06:23:58.446933",
   "version": "2.3.4"
  }
 },
 "nbformat": 4,
 "nbformat_minor": 5
}
